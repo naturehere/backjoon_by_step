{
  "nbformat": 4,
  "nbformat_minor": 0,
  "metadata": {
    "colab": {
      "provenance": [],
      "authorship_tag": "ABX9TyMCwjpNlujJQ6Mhp7ne5TgI",
      "include_colab_link": true
    },
    "kernelspec": {
      "name": "python3",
      "display_name": "Python 3"
    },
    "language_info": {
      "name": "python"
    }
  },
  "cells": [
    {
      "cell_type": "markdown",
      "metadata": {
        "id": "view-in-github",
        "colab_type": "text"
      },
      "source": [
        "<a href=\"https://colab.research.google.com/github/naturehere/backjoon_by_step/blob/main/10%EB%8B%A8%EA%B3%84__%EC%8B%9C%EA%B0%84_%EB%B3%B5%EC%9E%A1%EB%8F%84.ipynb\" target=\"_parent\"><img src=\"https://colab.research.google.com/assets/colab-badge.svg\" alt=\"Open In Colab\"/></a>"
      ]
    },
    {
      "cell_type": "code",
      "execution_count": null,
      "metadata": {
        "id": "S5LJ1FkrCxrf"
      },
      "outputs": [],
      "source": [
        "# 알고리즘 수업 - 알고리즘의 수행 시간 1\n",
        "\n",
        "# MenOfPassion(A[], n) {\n",
        "#     i = ⌊n / 2⌋;\n",
        "#     return A[i]; # 코드1\n",
        "# }\n",
        "\n",
        "# n 이 무슨 값이던 코드1은 번 수행된다.\n",
        "\n",
        "print(1) # 수행횟수\n",
        "print(0) # 식으로 나타낼시 상수항 이므로 0"
      ]
    },
    {
      "cell_type": "code",
      "source": [
        "# 알고리즘 수업 - 알고리즘의 수행 시간 2\n",
        "\n",
        "# MenOfPassion(A[], n) {\n",
        "#     sum <- 0;\n",
        "#     for i <- 1 to n\n",
        "#         sum <- sum + A[i]; # 코드1\n",
        "#     return sum;\n",
        "# }\n",
        "\n",
        "# n 번 코드 1이 수행된다. 이는 1차식이다.\n",
        "n = int(input())\n",
        "print(n)\n",
        "print(1)"
      ],
      "metadata": {
        "id": "l0OQfRPEFukP"
      },
      "execution_count": null,
      "outputs": []
    },
    {
      "cell_type": "code",
      "source": [
        "# 알고리즘 수업 - 알고리즘의 수행 시간 3\n",
        "\n",
        "# MenOfPassion(A[], n) {\n",
        "#     sum <- 0;\n",
        "#     for i <- 1 to n\n",
        "#         for j <- 1 to n\n",
        "#             sum <- sum + A[i] × A[j]; # 코드1\n",
        "#     return sum;\n",
        "# }\n",
        "\n",
        "n = int(input())\n",
        "\n",
        "# n*n 번 코드 1이 수행된다. 이는 2차식이다.\n",
        "print(n*n)\n",
        "print(2)"
      ],
      "metadata": {
        "id": "cfis3KOkGJmc"
      },
      "execution_count": null,
      "outputs": []
    },
    {
      "cell_type": "code",
      "source": [
        "# 알고리즘 수업 - 알고리즘의 수행 시간 4\n",
        "\n",
        "# MenOfPassion(A[], n) {\n",
        "#     sum <- 0;\n",
        "#     for i <- 1 to n - 1\n",
        "#         for j <- i + 1 to n\n",
        "#             sum <- sum + A[i] × A[j]; # 코드1\n",
        "#     return sum;\n",
        "# }\n",
        "\n",
        "n = int(input())\n",
        "\n",
        "# i 는 1 부터 n-1 까지\n",
        "# j 는 i + 1  부터 n 까지\n",
        "# 1 > 2 ~ n : n-1 회\n",
        "# 2 > 3 ~ n : n-2 회\n",
        "# ...\n",
        "# n-1 > n~n : 1 회\n",
        "# 따라서 총 1 부터 n-1 까지의 합이 된다.\n",
        "# ((n-1)*n)/2 번 코드 1이 수행된다. 이는 2차식이다.\n",
        "\n",
        "print(int(((n-1)*n)/2))\n",
        "print(2)"
      ],
      "metadata": {
        "colab": {
          "base_uri": "https://localhost:8080/"
        },
        "id": "XWkyUFFcGliu",
        "outputId": "a7ba7ee9-dadf-412a-f13d-37beb25ca30b"
      },
      "execution_count": 7,
      "outputs": [
        {
          "output_type": "stream",
          "name": "stdout",
          "text": [
            "7\n",
            "21\n",
            "2\n"
          ]
        }
      ]
    },
    {
      "cell_type": "code",
      "source": [
        "# 알고리즘 수업 - 알고리즘의 수행 시간 5\n",
        "\n",
        "# MenOfPassion(A[], n) {\n",
        "#     sum <- 0;\n",
        "#     for i <- 1 to n\n",
        "#         for j <- 1 to n\n",
        "#             for k <- 1 to n\n",
        "#                 sum <- sum + A[i] × A[j] × A[k]; # 코드1\n",
        "#     return sum;\n",
        "# }\n",
        "\n",
        "# i : 1 ~ n\n",
        "# j : 1 ~ n\n",
        "# k : 1 ~ n\n",
        "\n",
        "# 따라서 총 n^3 회 수행됨\n",
        "# 차수 3\n",
        "\n",
        "n = int(input())\n",
        "print(n**3)\n",
        "print(3)"
      ],
      "metadata": {
        "id": "RbHCMGe5hCVy"
      },
      "execution_count": null,
      "outputs": []
    },
    {
      "cell_type": "code",
      "source": [
        "# 알고리즘 수업 - 알고리즘의 수행 시간 6 (풀이중)\n",
        "\n",
        "# MenOfPassion(A[], n) {\n",
        "#     sum <- 0;\n",
        "#     for i <- 1 to n - 2\n",
        "#         for j <- i + 1 to n - 1\n",
        "#             for k <- j + 1 to n\n",
        "#                 sum <- sum + A[i] × A[j] × A[k]; # 코드1\n",
        "#     return sum;\n",
        "# }\n",
        "\n",
        "# 위 시그마를 풀면 다음과 같다.\n",
        "# (1/12)*(2*n**3 - 6*n**2 + 4*n)\n",
        "# 따라서 차수는 3이다.\n",
        "\n",
        "n= int(input())\n",
        "print(int((1/12)*(2*n**3 - 6*n**2 + 4*n)))\n",
        "print(3)\n"
      ],
      "metadata": {
        "colab": {
          "base_uri": "https://localhost:8080/"
        },
        "id": "AUWNhPkjhvOK",
        "outputId": "19a863c6-c95e-4727-d663-e800005a7a05"
      },
      "execution_count": 5,
      "outputs": [
        {
          "output_type": "stream",
          "name": "stdout",
          "text": [
            "7\n",
            "35\n",
            "3\n"
          ]
        }
      ]
    },
    {
      "cell_type": "code",
      "source": [
        "n= int(input())\n",
        "result = 0\n",
        "for i in range(1,n-1):\n",
        "    for j in range(i+1, n):\n",
        "        for k in range(j+1, n+1):\n",
        "            result+=1\n",
        "\n",
        "print(result)"
      ],
      "metadata": {
        "colab": {
          "base_uri": "https://localhost:8080/"
        },
        "id": "WHAquQm_6lBU",
        "outputId": "c6145d63-cc07-42ec-9439-6fb9705bc942"
      },
      "execution_count": 1,
      "outputs": [
        {
          "output_type": "stream",
          "name": "stdout",
          "text": [
            "7\n",
            "35\n"
          ]
        }
      ]
    },
    {
      "cell_type": "code",
      "source": [
        "# 알고리즘 수업 - 점근적 표기 1\n",
        "\n",
        "# O(g(n)) = {f(n) | 모든 n ≥ n0에 대하여 f(n) ≤ c × g(n)인 양의 상수 c와 n0가 존재한다}\n",
        "\n",
        "# 함수 f(n) = a1n + a0, 양의 정수 c, n0가 주어질 경우 O(n) 정의를 만족하는지 알아보는 코드\n",
        "\n",
        "a1, a0 = map(int, input().split())\n",
        "c = int(input())\n",
        "n0 = int(input())\n",
        "\n",
        "\n",
        "# 결국 이 문제에 대한 풀이는 1차 부등식을 푸는 문제이다.\n",
        "# a1*n + a0 <= c*n 이 모든 n >= n0 에 대하여 성립하면 된다.\n",
        "# 위 일차 부등식의 풀이는 a1-c의 값에 따라 다음과 같이 코드로 구현된다.\n",
        "\n",
        "if a1-c == 0:\n",
        "    if a0 <= 0:\n",
        "        result = 1\n",
        "    else:\n",
        "        result = 0\n",
        "elif a1- c < 0:\n",
        "    if -a0/(a1-c) <= n0:\n",
        "        result = 1\n",
        "    else:\n",
        "        result = 0\n",
        "else : # a1- c > 0 인 경우 항상 만족 하지 않는다.\n",
        "    result = 0\n",
        "print(result)"
      ],
      "metadata": {
        "colab": {
          "base_uri": "https://localhost:8080/"
        },
        "id": "7zVyDQ677iIj",
        "outputId": "38b530bd-0979-40da-af73-241457b89882"
      },
      "execution_count": 4,
      "outputs": [
        {
          "output_type": "stream",
          "name": "stdout",
          "text": [
            "7 7\n",
            "8\n",
            "10\n",
            "1\n"
          ]
        }
      ]
    }
  ]
}