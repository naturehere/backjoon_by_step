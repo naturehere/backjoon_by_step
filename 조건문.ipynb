{
  "nbformat": 4,
  "nbformat_minor": 0,
  "metadata": {
    "colab": {
      "provenance": []
    },
    "kernelspec": {
      "name": "python3",
      "display_name": "Python 3"
    },
    "language_info": {
      "name": "python"
    }
  },
  "cells": [
    {
      "cell_type": "code",
      "execution_count": 1,
      "metadata": {
        "id": "OcOjycowD5iN",
        "colab": {
          "base_uri": "https://localhost:8080/",
          "height": 240
        },
        "outputId": "a9014345-ec9e-4123-c6e8-17e9341f9780"
      },
      "outputs": [
        {
          "output_type": "error",
          "ename": "ValueError",
          "evalue": "ignored",
          "traceback": [
            "\u001b[0;31m---------------------------------------------------------------------------\u001b[0m",
            "\u001b[0;31mValueError\u001b[0m                                Traceback (most recent call last)",
            "\u001b[0;32m<ipython-input-1-8d76fce369ec>\u001b[0m in \u001b[0;36m<module>\u001b[0;34m\u001b[0m\n\u001b[1;32m      1\u001b[0m \u001b[0;31m# 두수 비교하기\u001b[0m\u001b[0;34m\u001b[0m\u001b[0;34m\u001b[0m\u001b[0;34m\u001b[0m\u001b[0m\n\u001b[1;32m      2\u001b[0m \u001b[0;32mimport\u001b[0m \u001b[0msys\u001b[0m\u001b[0;34m\u001b[0m\u001b[0;34m\u001b[0m\u001b[0m\n\u001b[0;32m----> 3\u001b[0;31m \u001b[0mn\u001b[0m\u001b[0;34m,\u001b[0m \u001b[0mm\u001b[0m \u001b[0;34m=\u001b[0m \u001b[0mmap\u001b[0m\u001b[0;34m(\u001b[0m\u001b[0mint\u001b[0m\u001b[0;34m,\u001b[0m \u001b[0msys\u001b[0m\u001b[0;34m.\u001b[0m\u001b[0mstdin\u001b[0m\u001b[0;34m.\u001b[0m\u001b[0mreadline\u001b[0m\u001b[0;34m(\u001b[0m\u001b[0;34m)\u001b[0m\u001b[0;34m.\u001b[0m\u001b[0msplit\u001b[0m\u001b[0;34m(\u001b[0m\u001b[0;34m)\u001b[0m\u001b[0;34m)\u001b[0m\u001b[0;34m\u001b[0m\u001b[0;34m\u001b[0m\u001b[0m\n\u001b[0m\u001b[1;32m      4\u001b[0m \u001b[0;34m\u001b[0m\u001b[0m\n\u001b[1;32m      5\u001b[0m \u001b[0;32mif\u001b[0m \u001b[0mn\u001b[0m \u001b[0;34m==\u001b[0m \u001b[0mm\u001b[0m\u001b[0;34m:\u001b[0m\u001b[0;34m\u001b[0m\u001b[0;34m\u001b[0m\u001b[0m\n",
            "\u001b[0;31mValueError\u001b[0m: not enough values to unpack (expected 2, got 0)"
          ]
        }
      ],
      "source": [
        "# 두수 비교하기\n",
        "import sys\n",
        "n, m = map(int, sys.stdin.readline().split())\n",
        "\n",
        "if n == m:\n",
        "    print('==')\n",
        "elif n < m :\n",
        "    print('<')\n",
        "else:\n",
        "    print('>')"
      ]
    },
    {
      "cell_type": "code",
      "source": [
        "# 시험성적\n",
        "\n",
        "n = int(input())\n",
        "\n",
        "if n >= 90:\n",
        "    print('A')\n",
        "elif n >= 80:\n",
        "    print('B')\n",
        "elif n >= 70:\n",
        "    print('C')\n",
        "elif n >= 60:\n",
        "    print(\"D\")\n",
        "else:\n",
        "    print(\"F\")"
      ],
      "metadata": {
        "id": "2NMhWIitFw3W"
      },
      "execution_count": null,
      "outputs": []
    },
    {
      "cell_type": "code",
      "source": [
        "# 윤년\n",
        "n = int(input())\n",
        "\n",
        "if n%400 == 0 or (n%4==0 and n%100 != 0):\n",
        "    print('1')\n",
        "else:\n",
        "    print('0')"
      ],
      "metadata": {
        "colab": {
          "base_uri": "https://localhost:8080/"
        },
        "id": "6K5vBSlWGjJk",
        "outputId": "52490f84-a150-4f8d-b776-545c971414f7"
      },
      "execution_count": null,
      "outputs": [
        {
          "output_type": "stream",
          "name": "stdout",
          "text": [
            "100\n",
            "0\n"
          ]
        }
      ]
    },
    {
      "cell_type": "code",
      "source": [
        "# 사분면 고르기\n",
        "import sys\n",
        "x = int(input())\n",
        "y = int(input())\n",
        "if x > 0:\n",
        "    if y > 0 :\n",
        "        print(\"1\")\n",
        "    else:\n",
        "        print(\"4\")\n",
        "else :\n",
        "    if y > 0 :\n",
        "        print(\"2\")\n",
        "    else :\n",
        "        print(\"3\")"
      ],
      "metadata": {
        "colab": {
          "base_uri": "https://localhost:8080/"
        },
        "id": "KxWwf7cCH-Lj",
        "outputId": "52a750d8-b0ec-4a4d-ef0d-2aca158ae507"
      },
      "execution_count": null,
      "outputs": [
        {
          "output_type": "stream",
          "name": "stdout",
          "text": [
            "5\n",
            "-5\n",
            "True True\n"
          ]
        }
      ]
    },
    {
      "cell_type": "code",
      "source": [
        "# 알람시계\n",
        "import sys\n",
        "h, m = map(int, sys.stdin.readline().split())\n",
        "\n",
        "if m >= 45:\n",
        "    m = m - 45\n",
        "else :\n",
        "    m = m + 15\n",
        "    if h == 0:\n",
        "        h = 23\n",
        "    else:\n",
        "        h = h-1\n",
        "\n",
        "print(f'{h} {m}')"
      ],
      "metadata": {
        "id": "E5nnawjyINn1"
      },
      "execution_count": null,
      "outputs": []
    },
    {
      "cell_type": "code",
      "source": [
        "# 오븐 시계\n",
        "h, m = input().split()\n",
        "h = int(h)\n",
        "m = int(m)\n",
        "t = int(input())\n",
        "\n",
        "th, tm = divmod(t,60)\n",
        "\n",
        "h += th\n",
        "m += tm\n",
        "\n",
        "if m >= 60:\n",
        "    m -= 60\n",
        "    h += 1\n",
        "if h >= 24:\n",
        "    h -= 24\n",
        "print(f'{h} {m}')"
      ],
      "metadata": {
        "colab": {
          "base_uri": "https://localhost:8080/"
        },
        "id": "c-3C-91rKePU",
        "outputId": "a0efebf5-e907-49a9-8ee1-6850d8df4efa"
      },
      "execution_count": null,
      "outputs": [
        {
          "output_type": "stream",
          "name": "stdout",
          "text": [
            "23 48\n",
            "25\n",
            "0 13\n"
          ]
        }
      ]
    },
    {
      "cell_type": "code",
      "source": [
        "# 주사위 세개\n",
        "import sys\n",
        "#a, b, c = map(int, sys.stdin.readline().split())\n",
        "a, b, c = map(int, input().split())\n",
        "if a == b and b == c:\n",
        "    ret = a*1000 +10000\n",
        "elif a == b:\n",
        "    ret = a*100 + 1000\n",
        "elif b == c:\n",
        "    ret = b*100 + 1000\n",
        "elif c == a:\n",
        "    ret = c*100 + 1000\n",
        "else :\n",
        "    ret = max(a,b,c) *100\n",
        "\n",
        "print(f'{ret}')"
      ],
      "metadata": {
        "colab": {
          "base_uri": "https://localhost:8080/"
        },
        "id": "1fVJ2ehhNSLv",
        "outputId": "1b76d301-22cc-4bd6-b334-773fb306f7c2"
      },
      "execution_count": null,
      "outputs": [
        {
          "output_type": "stream",
          "name": "stdout",
          "text": [
            "6 2 5\n",
            "600\n"
          ]
        }
      ]
    }
  ]
}