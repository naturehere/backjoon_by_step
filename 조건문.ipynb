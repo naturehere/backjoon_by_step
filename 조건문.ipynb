{
  "cells": [
    {
      "cell_type": "code",
      "execution_count": 1,
      "metadata": {
        "colab": {
          "base_uri": "https://localhost:8080/",
          "height": 240
        },
        "id": "OcOjycowD5iN",
        "outputId": "a9014345-ec9e-4123-c6e8-17e9341f9780"
      },
      "outputs": [
        {
          "ename": "ValueError",
          "evalue": "not enough values to unpack (expected 2, got 0)",
          "output_type": "error",
          "traceback": [
            "\u001b[0;31m---------------------------------------------------------------------------\u001b[0m",
            "\u001b[0;31mValueError\u001b[0m                                Traceback (most recent call last)",
            "Cell \u001b[0;32mIn[1], line 3\u001b[0m\n\u001b[1;32m      1\u001b[0m \u001b[39m# 두수 비교하기\u001b[39;00m\n\u001b[1;32m      2\u001b[0m \u001b[39mimport\u001b[39;00m \u001b[39msys\u001b[39;00m\n\u001b[0;32m----> 3\u001b[0m n, m \u001b[39m=\u001b[39m \u001b[39mmap\u001b[39m(\u001b[39mint\u001b[39m, sys\u001b[39m.\u001b[39mstdin\u001b[39m.\u001b[39mreadline()\u001b[39m.\u001b[39msplit())\n\u001b[1;32m      5\u001b[0m \u001b[39mif\u001b[39;00m n \u001b[39m==\u001b[39m m:\n\u001b[1;32m      6\u001b[0m     \u001b[39mprint\u001b[39m(\u001b[39m'\u001b[39m\u001b[39m==\u001b[39m\u001b[39m'\u001b[39m)\n",
            "\u001b[0;31mValueError\u001b[0m: not enough values to unpack (expected 2, got 0)"
          ]
        }
      ],
      "source": [
        "# 두수 비교하기\n",
        "import sys\n",
        "n, m = map(int, sys.stdin.readline().split())\n",
        "\n",
        "if n == m:\n",
        "    print('==')\n",
        "elif n < m :\n",
        "    print('<')\n",
        "else:\n",
        "    print('>')\n",
        "## 수정"
      ]
    },
    {
      "cell_type": "code",
      "execution_count": null,
      "metadata": {
        "id": "2NMhWIitFw3W"
      },
      "outputs": [],
      "source": [
        "# 시험성적\n",
        "\n",
        "n = int(input())\n",
        "\n",
        "if n >= 90:\n",
        "    print('A')\n",
        "elif n >= 80:\n",
        "    print('B')\n",
        "elif n >= 70:\n",
        "    print('C')\n",
        "elif n >= 60:\n",
        "    print(\"D\")\n",
        "else:\n",
        "    print(\"F\")"
      ]
    },
    {
      "cell_type": "code",
      "execution_count": null,
      "metadata": {
        "colab": {
          "base_uri": "https://localhost:8080/"
        },
        "id": "6K5vBSlWGjJk",
        "outputId": "52490f84-a150-4f8d-b776-545c971414f7"
      },
      "outputs": [
        {
          "name": "stdout",
          "output_type": "stream",
          "text": [
            "100\n",
            "0\n"
          ]
        }
      ],
      "source": [
        "# 윤년\n",
        "n = int(input())\n",
        "\n",
        "if n%400 == 0 or (n%4==0 and n%100 != 0):\n",
        "    print('1')\n",
        "else:\n",
        "    print('0')"
      ]
    },
    {
      "cell_type": "code",
      "execution_count": null,
      "metadata": {
        "colab": {
          "base_uri": "https://localhost:8080/"
        },
        "id": "KxWwf7cCH-Lj",
        "outputId": "52a750d8-b0ec-4a4d-ef0d-2aca158ae507"
      },
      "outputs": [
        {
          "name": "stdout",
          "output_type": "stream",
          "text": [
            "5\n",
            "-5\n",
            "True True\n"
          ]
        }
      ],
      "source": [
        "# 사분면 고르기\n",
        "import sys\n",
        "x = int(input())\n",
        "y = int(input())\n",
        "if x > 0:\n",
        "    if y > 0 :\n",
        "        print(\"1\")\n",
        "    else:\n",
        "        print(\"4\")\n",
        "else :\n",
        "    if y > 0 :\n",
        "        print(\"2\")\n",
        "    else :\n",
        "        print(\"3\")"
      ]
    },
    {
      "cell_type": "code",
      "execution_count": null,
      "metadata": {
        "id": "E5nnawjyINn1"
      },
      "outputs": [],
      "source": [
        "# 알람시계\n",
        "import sys\n",
        "h, m = map(int, sys.stdin.readline().split())\n",
        "\n",
        "if m >= 45:\n",
        "    m = m - 45\n",
        "else :\n",
        "    m = m + 15\n",
        "    if h == 0:\n",
        "        h = 23\n",
        "    else:\n",
        "        h = h-1\n",
        "\n",
        "print(f'{h} {m}')"
      ]
    },
    {
      "cell_type": "code",
      "execution_count": null,
      "metadata": {
        "colab": {
          "base_uri": "https://localhost:8080/"
        },
        "id": "c-3C-91rKePU",
        "outputId": "a0efebf5-e907-49a9-8ee1-6850d8df4efa"
      },
      "outputs": [
        {
          "name": "stdout",
          "output_type": "stream",
          "text": [
            "23 48\n",
            "25\n",
            "0 13\n"
          ]
        }
      ],
      "source": [
        "# 오븐 시계\n",
        "h, m = input().split()\n",
        "h = int(h)\n",
        "m = int(m)\n",
        "t = int(input())\n",
        "\n",
        "th, tm = divmod(t,60)\n",
        "\n",
        "h += th\n",
        "m += tm\n",
        "\n",
        "if m >= 60:\n",
        "    m -= 60\n",
        "    h += 1\n",
        "if h >= 24:\n",
        "    h -= 24\n",
        "print(f'{h} {m}')"
      ]
    },
    {
      "cell_type": "code",
      "execution_count": null,
      "metadata": {
        "colab": {
          "base_uri": "https://localhost:8080/"
        },
        "id": "1fVJ2ehhNSLv",
        "outputId": "1b76d301-22cc-4bd6-b334-773fb306f7c2"
      },
      "outputs": [
        {
          "name": "stdout",
          "output_type": "stream",
          "text": [
            "6 2 5\n",
            "600\n"
          ]
        }
      ],
      "source": [
        "# 주사위 세개\n",
        "import sys\n",
        "#a, b, c = map(int, sys.stdin.readline().split())\n",
        "a, b, c = map(int, input().split())\n",
        "if a == b and b == c:\n",
        "    ret = a*1000 +10000\n",
        "elif a == b:\n",
        "    ret = a*100 + 1000\n",
        "elif b == c:\n",
        "    ret = b*100 + 1000\n",
        "elif c == a:\n",
        "    ret = c*100 + 1000\n",
        "else :\n",
        "    ret = max(a,b,c) *100\n",
        "\n",
        "print(f'{ret}')"
      ]
    }
  ],
  "metadata": {
    "colab": {
      "provenance": []
    },
    "kernelspec": {
      "display_name": "Python 3",
      "language": "python",
      "name": "python3"
    },
    "language_info": {
      "codemirror_mode": {
        "name": "ipython",
        "version": 3
      },
      "file_extension": ".py",
      "mimetype": "text/x-python",
      "name": "python",
      "nbconvert_exporter": "python",
      "pygments_lexer": "ipython3",
      "version": "3.9.6 (default, Oct 18 2022, 12:41:40) \n[Clang 14.0.0 (clang-1400.0.29.202)]"
    },
    "vscode": {
      "interpreter": {
        "hash": "31f2aee4e71d21fbe5cf8b01ff0e069b9275f58929596ceb00d14d90e3e16cd6"
      }
    }
  },
  "nbformat": 4,
  "nbformat_minor": 0
}
