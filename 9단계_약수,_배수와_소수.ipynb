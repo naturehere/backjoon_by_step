{
  "nbformat": 4,
  "nbformat_minor": 0,
  "metadata": {
    "colab": {
      "provenance": [],
      "authorship_tag": "ABX9TyMDDOa9T2WHa2rTgIFX9weB",
      "include_colab_link": true
    },
    "kernelspec": {
      "name": "python3",
      "display_name": "Python 3"
    },
    "language_info": {
      "name": "python"
    }
  },
  "cells": [
    {
      "cell_type": "markdown",
      "metadata": {
        "id": "view-in-github",
        "colab_type": "text"
      },
      "source": [
        "<a href=\"https://colab.research.google.com/github/naturehere/backjoon_by_step/blob/main/9%EB%8B%A8%EA%B3%84_%EC%95%BD%EC%88%98%2C_%EB%B0%B0%EC%88%98%EC%99%80_%EC%86%8C%EC%88%98.ipynb\" target=\"_parent\"><img src=\"https://colab.research.google.com/assets/colab-badge.svg\" alt=\"Open In Colab\"/></a>"
      ]
    },
    {
      "cell_type": "code",
      "execution_count": 6,
      "metadata": {
        "colab": {
          "base_uri": "https://localhost:8080/"
        },
        "id": "0G68VHKgsPwc",
        "outputId": "8a402257-ef0c-49ca-ae82-54ccf1a47c0a"
      },
      "outputs": [
        {
          "output_type": "stream",
          "name": "stdout",
          "text": [
            "8 16\n",
            "32 4\n",
            "17 5\n",
            "0 0\n",
            "factor multiple neither\n"
          ]
        }
      ],
      "source": [
        "# 배수와 약수 \n",
        "\n",
        "# 입력 0 0 입력 까지 입력 받기\n",
        "result = []\n",
        "i, j = 1, 1\n",
        "while i or j:\n",
        "    if i%j == 0:\n",
        "        result.append(\"multiple\")\n",
        "    elif j%i == 0:\n",
        "        result.append(\"factor\")\n",
        "    else:\n",
        "        result.append(\"neither\")\n",
        "\n",
        "    i, j = map(int, input().split())\n",
        "\n",
        "print(*result[1:], sep = \"\\n\")"
      ]
    },
    {
      "cell_type": "code",
      "source": [
        "# 약수 구하기\n",
        "# N 의 K 번째 작은 약수 구하기\n",
        "N, K = map(int, input().split())\n",
        "remainder = [i for i in range(1,N+1) if N%i == 0]\n",
        "if len(remainder) >= K:\n",
        "    print(remainder[K-1])\n",
        "else:\n",
        "    print(0)"
      ],
      "metadata": {
        "colab": {
          "base_uri": "https://localhost:8080/"
        },
        "id": "nPTwXcbXvwrm",
        "outputId": "f06b9c00-e08c-4b8b-f768-652cc94bd71c"
      },
      "execution_count": 7,
      "outputs": [
        {
          "output_type": "stream",
          "name": "stdout",
          "text": [
            "25 3\n",
            "25\n"
          ]
        }
      ]
    },
    {
      "cell_type": "code",
      "source": [
        "# 약수들의 합\n",
        "# 완전수 : 약수의 합과 자신이 같은 수\n",
        "# 완전수 인지 판단하는 코드\n",
        "nums =[]\n",
        "while True:\n",
        "    n = int(input())\n",
        "    if n == -1:\n",
        "        break\n",
        "    else:\n",
        "\n",
        "        nums.append(n)\n",
        "\n",
        "for n in nums:\n",
        "    divisors = []\n",
        "    for i in range(1,n):\n",
        "        if n%i == 0:\n",
        "            divisors.append(i)\n",
        "\n",
        "    if sum(divisors) == n:\n",
        "        print(f\"{n} = \", end =\"\")\n",
        "        print(*divisors, sep = \" + \")\n",
        "    else:\n",
        "        print(f\"{n} is NOT perfect.\")\n"
      ],
      "metadata": {
        "colab": {
          "base_uri": "https://localhost:8080/"
        },
        "id": "qsSLcKh_8dWG",
        "outputId": "55259eac-f984-43c5-dbb7-d0e079de9e82"
      },
      "execution_count": 11,
      "outputs": [
        {
          "output_type": "stream",
          "name": "stdout",
          "text": [
            "6\n",
            "12\n",
            "28\n",
            "-1\n",
            "[1, 2, 3]\n",
            "6 = 1 + 2 + 3\n",
            "[1, 2, 3, 4, 6]\n",
            "12 is NOT perfect.\n",
            "[1, 2, 4, 7, 14]\n",
            "28 = 1 + 2 + 4 + 7 + 14\n"
          ]
        }
      ]
    }
  ]
}