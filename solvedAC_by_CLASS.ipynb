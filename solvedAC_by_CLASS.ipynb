{
  "nbformat": 4,
  "nbformat_minor": 0,
  "metadata": {
    "colab": {
      "provenance": [],
      "authorship_tag": "ABX9TyNV7VkhYbmGjtzBV2IrEHV/",
      "include_colab_link": true
    },
    "kernelspec": {
      "name": "python3",
      "display_name": "Python 3"
    },
    "language_info": {
      "name": "python"
    }
  },
  "cells": [
    {
      "cell_type": "markdown",
      "metadata": {
        "id": "view-in-github",
        "colab_type": "text"
      },
      "source": [
        "<a href=\"https://colab.research.google.com/github/naturehere/backjoon_by_step/blob/main/solvedAC_by_CLASS.ipynb\" target=\"_parent\"><img src=\"https://colab.research.google.com/assets/colab-badge.svg\" alt=\"Open In Colab\"/></a>"
      ]
    },
    {
      "cell_type": "markdown",
      "source": [
        "1008번\n",
        "A/B\n",
        "\n",
        "문제  \n",
        "두 정수 A와 B를 입력받은 다음, A/B를 출력하는 프로그램을 작성하시오.\n",
        "\n",
        "입력  \n",
        "첫째 줄에 A와 B가 주어진다. (0 < A, B < 10)\n",
        "\n",
        "출력  \n",
        "첫째 줄에 A/B를 출력한다. 실제 정답과 출력값의 절대오차 또는 상대오차가 10-9 이하이면 정답이다"
      ],
      "metadata": {
        "id": "UT6Ev4YsR9KC"
      }
    },
    {
      "cell_type": "code",
      "execution_count": null,
      "metadata": {
        "id": "-00yc-m5RpaT"
      },
      "outputs": [],
      "source": []
    },
    {
      "cell_type": "markdown",
      "source": [
        "[random value]: variable 232\n",
        "\n",
        "This is my [random value] located somewhere in my Markdown document.\n",
        "\n"
      ],
      "metadata": {
        "id": "jrE8hCVO50t3"
      }
    },
    {
      "cell_type": "code",
      "source": [
        "# Define data\n",
        "data = [\n",
        "    {\"name\": \"Alice\", \"age\": 30},\n",
        "    {\"name\": \"Bob\", \"age\": 40},\n",
        "    {\"name\": \"Charlie\", \"age\": 50},\n",
        "]\n",
        "# Define variables\n",
        "title = \"My Notebook Title\"\n",
        "author = \"John Doe\""
      ],
      "metadata": {
        "id": "LTxQYShc8Gw5"
      },
      "execution_count": null,
      "outputs": []
    },
    {
      "cell_type": "code",
      "source": [
        "import jinja2\n",
        "\n",
        "# Define template\n",
        "template_string = \"\"\"\n",
        "# {{ title }}\n",
        "\n",
        "By {{ author }}\n",
        "\"\"\"\n",
        "\n",
        "# Compile the template\n",
        "template = jinja2.Template(template_string)\n",
        "\n",
        "# Define variables\n",
        "title = \"My Notebook Title\"\n",
        "author = \"John Doe\"\n",
        "\n",
        "# Render the template with the variables\n",
        "output = template.render(title=title, author=author)\n",
        "\n",
        "from IPython.display import Markdown\n",
        "\n",
        "# Display the output as a Markdown cell\n",
        "display(Markdown(output))\n",
        "\n"
      ],
      "metadata": {
        "colab": {
          "base_uri": "https://localhost:8080/",
          "height": 100
        },
        "id": "6WCt7861-JUc",
        "outputId": "4405ad38-2fbe-4521-83b5-4b6e726f1ab1"
      },
      "execution_count": null,
      "outputs": [
        {
          "output_type": "display_data",
          "data": {
            "text/plain": [
              "<IPython.core.display.Markdown object>"
            ],
            "text/markdown": "\n# My Notebook Title\n\nBy John Doe"
          },
          "metadata": {}
        }
      ]
    },
    {
      "cell_type": "markdown",
      "source": [],
      "metadata": {
        "id": "cAPfeSK89jbu"
      }
    },
    {
      "cell_type": "markdown",
      "source": [
        "# class 1"
      ],
      "metadata": {
        "id": "YOn9Ow6edjYJ"
      }
    },
    {
      "cell_type": "code",
      "source": [
        "# 10869번\n",
        "# 사칙연산\n",
        "\n",
        "# input \n",
        "A , B = map(int, input().split())\n",
        "\n",
        "# output\n",
        "answer = [A+B, A-B, A*B, A//B, A%B]\n",
        "print(*answer, sep = \"\\n\")"
      ],
      "metadata": {
        "id": "amD2FCUACFFH",
        "colab": {
          "base_uri": "https://localhost:8080/"
        },
        "outputId": "34686bbb-9832-406f-8692-7ff589e7c943"
      },
      "execution_count": null,
      "outputs": [
        {
          "output_type": "stream",
          "name": "stdout",
          "text": [
            "7 3\n",
            "10\n",
            "4\n",
            "21\n",
            "2\n",
            "1\n"
          ]
        }
      ]
    },
    {
      "cell_type": "code",
      "source": [
        "# 2920번\n",
        "# 음계\n",
        "\n",
        "# input\n",
        "nums = input()\n",
        "# output\n",
        "if nums == \"1 2 3 4 5 6 7 8\":\n",
        "    print(\"ascending\")\n",
        "elif nums == \"8 7 6 5 4 3 2 1\":\n",
        "    print(\"descending\")\n",
        "else:\n",
        "    print(\"mixed\")"
      ],
      "metadata": {
        "colab": {
          "base_uri": "https://localhost:8080/"
        },
        "id": "80sB5h9derK3",
        "outputId": "2e696f6d-5a26-4d66-9be8-363891029383"
      },
      "execution_count": null,
      "outputs": [
        {
          "output_type": "stream",
          "name": "stdout",
          "text": [
            "8 1 7 2 6 3 5 4\n",
            "mixed\n"
          ]
        }
      ]
    },
    {
      "cell_type": "code",
      "source": [
        "# 2475\n",
        "# 검증수\n",
        "\n",
        "# input\n",
        "nums = list(map(int, input().split()))\n",
        "\n",
        "sum = 0\n",
        "for n in nums:\n",
        "    sum += n**2\n",
        "\n",
        "verifier = sum%10\n",
        "# output\n",
        "print(verifier)"
      ],
      "metadata": {
        "colab": {
          "base_uri": "https://localhost:8080/"
        },
        "id": "7xccKMeT9oOz",
        "outputId": "6ac04690-42f6-4569-f11f-30a204ab3982"
      },
      "execution_count": null,
      "outputs": [
        {
          "output_type": "stream",
          "name": "stdout",
          "text": [
            "0 4 2 5 6\n",
            "1\n"
          ]
        }
      ]
    },
    {
      "cell_type": "code",
      "source": [
        "# 10171\n",
        "# 고양이\n",
        "\n",
        "print(\"\"\"\\\\    /\\\\\n",
        " )  ( ')\n",
        "(  /  )\n",
        " \\\\(__)|\"\"\")"
      ],
      "metadata": {
        "colab": {
          "base_uri": "https://localhost:8080/"
        },
        "id": "nHGBOaV9AQZT",
        "outputId": "2d597ffc-0d1a-40c3-878f-afad828da60f"
      },
      "execution_count": null,
      "outputs": [
        {
          "output_type": "stream",
          "name": "stdout",
          "text": [
            "\\    /\\\n",
            " )  ( ')\n",
            "(  /  )\n",
            " \\(__)|\n"
          ]
        }
      ]
    },
    {
      "cell_type": "code",
      "source": [
        "# 10172\n",
        "# 개\n",
        "\n",
        "print('''|\\\\_/|\n",
        "|q p|   /}\n",
        "( 0 )\"\"\"\\\\\n",
        "|\"^\"`    |\n",
        "||_/=\\\\\\\\__|''')"
      ],
      "metadata": {
        "colab": {
          "base_uri": "https://localhost:8080/"
        },
        "id": "dpj5_hkXAkTz",
        "outputId": "4d544315-b94d-43cf-c3ef-f1defd6a6b15"
      },
      "execution_count": null,
      "outputs": [
        {
          "output_type": "stream",
          "name": "stdout",
          "text": [
            "|\\_/|\n",
            "|q p|   /}\n",
            "( 0 )\"\"\"\\\n",
            "|\"^\"`    |\n",
            "||_/=\\\\__|\n"
          ]
        }
      ]
    },
    {
      "cell_type": "markdown",
      "source": [
        "# class 2"
      ],
      "metadata": {
        "id": "eyag6ZlKBh-d"
      }
    },
    {
      "cell_type": "code",
      "source": [
        "# 1018\n",
        "# 체스판\n",
        "import sys\n",
        "# 입력\n",
        "N, M = map(int, input().split())\n",
        "board = []\n",
        "for _ in range(N):\n",
        "    board.append(input())\n",
        "\n",
        "# 탐색 범위\n",
        "n = N - 8 + 1\n",
        "m = M - 8 + 1\n",
        "\n",
        "# 정답\n",
        "answer_b = \"BWBWBWBWWBWBWBWBBWBWBWBWWBWBWBWBBWBWBWBWWBWBWBWBBWBWBWBWWBWBWBWB\"\n",
        "answer_w = \"WBWBWBWBBWBWBWBWWBWBWBWBBWBWBWBWWBWBWBWBBWBWBWBWWBWBWBWBBWBWBWBW\"\n",
        "answer_list = []\n",
        "for i in range(n):\n",
        "    for j in range(m):\n",
        "        cut_board = \"\"\n",
        "        for k in range(8):\n",
        "            cut_board += board[i+k][j:j+8]\n",
        "\n",
        "        # 색 바꿔야할 부분 개수 확인\n",
        "        change_color_b = 0\n",
        "        change_color_w = 0\n",
        "\n",
        "        for k  in range(64):\n",
        "            if cut_board[k] != answer_b[k]:\n",
        "                change_color_b += 1\n",
        "            if cut_board[k] != answer_w[k]:\n",
        "                change_color_w += 1\n",
        "        answer_list.append(min(change_color_b,change_color_w))\n",
        "\n",
        "answer = min(answer_list)\n",
        "print(answer)"
      ],
      "metadata": {
        "colab": {
          "base_uri": "https://localhost:8080/"
        },
        "id": "_9Ve9mNgBkMO",
        "outputId": "4301bb63-3de8-472f-ffe8-59be87d9a236"
      },
      "execution_count": null,
      "outputs": [
        {
          "output_type": "stream",
          "name": "stdout",
          "text": [
            "10 13\n",
            "BBBBBBBBWBWBW\n",
            "BBBBBBBBBWBWB\n",
            "BBBBBBBBWBWBW\n",
            "BBBBBBBBBWBWB\n",
            "BBBBBBBBWBWBW\n",
            "BBBBBBBBBWBWB\n",
            "BBBBBBBBWBWBW\n",
            "BBBBBBBBBWBWB\n",
            "WWWWWWWWWWBWB\n",
            "WWWWWWWWWWBWB\n",
            "12\n"
          ]
        }
      ]
    },
    {
      "cell_type": "markdown",
      "source": [
        "런타임 에러가 발생. 반복을 줄여 보자."
      ],
      "metadata": {
        "id": "dg3uuBxiSvTy"
      }
    },
    {
      "cell_type": "code",
      "source": [
        "# 1018\n",
        "# 체스판\n",
        "import sys\n",
        "# 입력\n",
        "N, M = map(int, input().split())\n",
        "board = []\n",
        "for _ in range(N):\n",
        "    board.append(input())\n",
        "\n",
        "# 탐색 범위\n",
        "n = N - 8 + 1\n",
        "m = M - 8 + 1\n",
        "\n",
        "# 정답\n",
        "answer_b_w = [\"BWBWBWBW\", \"WBWBWBWB\"]\n",
        "\n",
        "answer_list_b = [[] for _ in range(N)]\n",
        "answer_list_w = [[] for _ in range(N)]\n",
        "for i in range(N):\n",
        "    for j in range(m):\n",
        "        cut_board = board[i][j:j+8]\n",
        "\n",
        "        # 색 바꿔야할 부분 개수 확인\n",
        "        change_color_b = 0\n",
        "        change_color_w = 0\n",
        "\n",
        "        for k  in range(8):\n",
        "            if cut_board[k] != answer_b_w[(i+1)%2][k]:\n",
        "                change_color_b += 1\n",
        "            if cut_board[k] != answer_b_w[i%2][k]:\n",
        "                change_color_w += 1\n",
        "        answer_list_b[i].append(change_color_b)\n",
        "        answer_list_w[i].append(change_color_w)\n",
        "\n",
        "\n",
        "answer_b = [[sum(a) for a in zip(*answer_list_b[i:i+8])] for i in range(n)]\n",
        "answer_w = [[sum(a) for a in zip(*answer_list_w[i:i+8])] for i in range(n)]\n",
        "nested_list = [[4, 2, 8], [3, 5, 1], [9, 6, 7]]\n",
        "min_value_b = min([min(sublist) for sublist in answer_b])\n",
        "min_value_w = min([min(sublist) for sublist in answer_w])\n",
        "print(min(min_value_b,min_value_w))"
      ],
      "metadata": {
        "id": "lVS77JI3S00g",
        "colab": {
          "base_uri": "https://localhost:8080/"
        },
        "outputId": "3d324a51-1b5b-4a54-be9c-4e926c3c0cb8"
      },
      "execution_count": null,
      "outputs": [
        {
          "output_type": "stream",
          "name": "stdout",
          "text": [
            "11 12\n",
            "BWWBWWBWWBWW\n",
            "BWWBWBBWWBWW\n",
            "WBWWBWBBWWBW\n",
            "BWWBWBBWWBWW\n",
            "WBWWBWBBWWBW\n",
            "BWWBWBBWWBWW\n",
            "WBWWBWBBWWBW\n",
            "BWWBWBWWWBWW\n",
            "WBWWBWBBWWBW\n",
            "BWWBWBBWWBWW\n",
            "WBWWBWBBWWBW\n",
            "13\n"
          ]
        }
      ]
    },
    {
      "cell_type": "code",
      "source": [
        "# 1085번\n",
        "# 직사각형에서 탈출\n",
        "\n",
        "# 입력\n",
        "x, y, w, h = map(int, input().split())\n",
        "\n",
        "answer = min(x, w - x, y, h - y)\n",
        "print(answer)"
      ],
      "metadata": {
        "colab": {
          "base_uri": "https://localhost:8080/"
        },
        "id": "CuKew_Vugpmz",
        "outputId": "fac0451f-ba44-4edd-fa5b-3b61a13a0e07"
      },
      "execution_count": null,
      "outputs": [
        {
          "output_type": "stream",
          "name": "stdout",
          "text": [
            "653 375 1000 1000\n",
            "347\n"
          ]
        }
      ]
    },
    {
      "cell_type": "code",
      "source": [
        "# 1181\n",
        "# 단어정렬\n",
        "\n",
        "n = int(input())\n",
        "words = [input() for i in range(n)]\n",
        "words = list(set(words))\n",
        "words.sort(key = lambda x : (len(x), x))\n",
        "print(*words, sep =\"\\n\")"
      ],
      "metadata": {
        "colab": {
          "base_uri": "https://localhost:8080/",
          "height": 396
        },
        "id": "YyMRI1YD17t0",
        "outputId": "3d106039-45bb-449f-d572-ba538fd81c36"
      },
      "execution_count": null,
      "outputs": [
        {
          "output_type": "error",
          "ename": "KeyboardInterrupt",
          "evalue": "ignored",
          "traceback": [
            "\u001b[0;31m---------------------------------------------------------------------------\u001b[0m",
            "\u001b[0;31mKeyboardInterrupt\u001b[0m                         Traceback (most recent call last)",
            "\u001b[0;32m<ipython-input-36-83976d0ff70b>\u001b[0m in \u001b[0;36m<cell line: 4>\u001b[0;34m()\u001b[0m\n\u001b[1;32m      2\u001b[0m \u001b[0;31m# 단어정렬\u001b[0m\u001b[0;34m\u001b[0m\u001b[0;34m\u001b[0m\u001b[0m\n\u001b[1;32m      3\u001b[0m \u001b[0;34m\u001b[0m\u001b[0m\n\u001b[0;32m----> 4\u001b[0;31m \u001b[0mn\u001b[0m \u001b[0;34m=\u001b[0m \u001b[0mint\u001b[0m\u001b[0;34m(\u001b[0m\u001b[0minput\u001b[0m\u001b[0;34m(\u001b[0m\u001b[0;34m)\u001b[0m\u001b[0;34m)\u001b[0m\u001b[0;34m\u001b[0m\u001b[0;34m\u001b[0m\u001b[0m\n\u001b[0m\u001b[1;32m      5\u001b[0m \u001b[0mwords\u001b[0m \u001b[0;34m=\u001b[0m \u001b[0;34m[\u001b[0m\u001b[0minput\u001b[0m\u001b[0;34m(\u001b[0m\u001b[0;34m)\u001b[0m \u001b[0;32mfor\u001b[0m \u001b[0mi\u001b[0m \u001b[0;32min\u001b[0m \u001b[0mrange\u001b[0m\u001b[0;34m(\u001b[0m\u001b[0mn\u001b[0m\u001b[0;34m)\u001b[0m\u001b[0;34m]\u001b[0m\u001b[0;34m\u001b[0m\u001b[0;34m\u001b[0m\u001b[0m\n\u001b[1;32m      6\u001b[0m \u001b[0mwords\u001b[0m \u001b[0;34m=\u001b[0m \u001b[0mlist\u001b[0m\u001b[0;34m(\u001b[0m\u001b[0mset\u001b[0m\u001b[0;34m(\u001b[0m\u001b[0mwords\u001b[0m\u001b[0;34m)\u001b[0m\u001b[0;34m)\u001b[0m\u001b[0;34m\u001b[0m\u001b[0;34m\u001b[0m\u001b[0m\n",
            "\u001b[0;32m/usr/local/lib/python3.9/dist-packages/ipykernel/kernelbase.py\u001b[0m in \u001b[0;36mraw_input\u001b[0;34m(self, prompt)\u001b[0m\n\u001b[1;32m    849\u001b[0m                 \u001b[0;34m\"raw_input was called, but this frontend does not support input requests.\"\u001b[0m\u001b[0;34m\u001b[0m\u001b[0;34m\u001b[0m\u001b[0m\n\u001b[1;32m    850\u001b[0m             )\n\u001b[0;32m--> 851\u001b[0;31m         return self._input_request(str(prompt),\n\u001b[0m\u001b[1;32m    852\u001b[0m             \u001b[0mself\u001b[0m\u001b[0;34m.\u001b[0m\u001b[0m_parent_ident\u001b[0m\u001b[0;34m,\u001b[0m\u001b[0;34m\u001b[0m\u001b[0;34m\u001b[0m\u001b[0m\n\u001b[1;32m    853\u001b[0m             \u001b[0mself\u001b[0m\u001b[0;34m.\u001b[0m\u001b[0m_parent_header\u001b[0m\u001b[0;34m,\u001b[0m\u001b[0;34m\u001b[0m\u001b[0;34m\u001b[0m\u001b[0m\n",
            "\u001b[0;32m/usr/local/lib/python3.9/dist-packages/ipykernel/kernelbase.py\u001b[0m in \u001b[0;36m_input_request\u001b[0;34m(self, prompt, ident, parent, password)\u001b[0m\n\u001b[1;32m    893\u001b[0m             \u001b[0;32mexcept\u001b[0m \u001b[0mKeyboardInterrupt\u001b[0m\u001b[0;34m:\u001b[0m\u001b[0;34m\u001b[0m\u001b[0;34m\u001b[0m\u001b[0m\n\u001b[1;32m    894\u001b[0m                 \u001b[0;31m# re-raise KeyboardInterrupt, to truncate traceback\u001b[0m\u001b[0;34m\u001b[0m\u001b[0;34m\u001b[0m\u001b[0m\n\u001b[0;32m--> 895\u001b[0;31m                 \u001b[0;32mraise\u001b[0m \u001b[0mKeyboardInterrupt\u001b[0m\u001b[0;34m(\u001b[0m\u001b[0;34m\"Interrupted by user\"\u001b[0m\u001b[0;34m)\u001b[0m \u001b[0;32mfrom\u001b[0m \u001b[0;32mNone\u001b[0m\u001b[0;34m\u001b[0m\u001b[0;34m\u001b[0m\u001b[0m\n\u001b[0m\u001b[1;32m    896\u001b[0m             \u001b[0;32mexcept\u001b[0m \u001b[0mException\u001b[0m \u001b[0;32mas\u001b[0m \u001b[0me\u001b[0m\u001b[0;34m:\u001b[0m\u001b[0;34m\u001b[0m\u001b[0;34m\u001b[0m\u001b[0m\n\u001b[1;32m    897\u001b[0m                 \u001b[0mself\u001b[0m\u001b[0;34m.\u001b[0m\u001b[0mlog\u001b[0m\u001b[0;34m.\u001b[0m\u001b[0mwarning\u001b[0m\u001b[0;34m(\u001b[0m\u001b[0;34m\"Invalid Message:\"\u001b[0m\u001b[0;34m,\u001b[0m \u001b[0mexc_info\u001b[0m\u001b[0;34m=\u001b[0m\u001b[0;32mTrue\u001b[0m\u001b[0;34m)\u001b[0m\u001b[0;34m\u001b[0m\u001b[0;34m\u001b[0m\u001b[0m\n",
            "\u001b[0;31mKeyboardInterrupt\u001b[0m: Interrupted by user"
          ]
        }
      ]
    },
    {
      "cell_type": "code",
      "source": [
        "# 1259번\n",
        "# 펠린드롬수\n",
        "nums = []\n",
        "\n",
        "while True :\n",
        "    num = input()\n",
        "    if num == \"0\":\n",
        "        break\n",
        "    nums.append(num)\n",
        "\n",
        "for num in nums:\n",
        "    if num == num[::-1]:\n",
        "        print(\"yes\")\n",
        "    else:\n",
        "        print(\"no\")"
      ],
      "metadata": {
        "colab": {
          "base_uri": "https://localhost:8080/"
        },
        "id": "mbSfy4pe2uCK",
        "outputId": "4ca236f4-7df1-4af0-c38c-17a3c1a4eb0a"
      },
      "execution_count": null,
      "outputs": [
        {
          "output_type": "stream",
          "name": "stdout",
          "text": [
            "121\n",
            "1231\n",
            "12321\n",
            "0\n",
            "yes\n",
            "no\n",
            "yes\n"
          ]
        }
      ]
    },
    {
      "cell_type": "code",
      "source": [
        "# 1436\n",
        "# 영화감독 숌\n",
        "\n",
        "n = int(input())\n",
        "c = 0\n",
        "num = 0\n",
        "while c != n:\n",
        "    num += 1\n",
        "    if \"666\" in str(num):\n",
        "        c += 1\n",
        "print(num)"
      ],
      "metadata": {
        "colab": {
          "base_uri": "https://localhost:8080/"
        },
        "id": "3UHh2kV22zcU",
        "outputId": "5fff9d72-3752-4b09-fb82-a13d24e29c5a"
      },
      "execution_count": null,
      "outputs": [
        {
          "output_type": "stream",
          "name": "stdout",
          "text": [
            "500\n",
            "166699\n"
          ]
        }
      ]
    },
    {
      "cell_type": "code",
      "source": [
        "# 1654\n",
        "# 랜선 자르기\n",
        "\n",
        "k, n = map(int, input().split())\n",
        "lines = [int(input()) for _ in range(k)]\n",
        "line_len = max(lines)//2\n",
        "while True:\n",
        "    print(line_len)\n",
        "    line_count = sum([i//line_len for i in lines])\n",
        "    print(line_len, line_count, lines)\n",
        "    if line_count == n:\n",
        "        break\n",
        "    line_len -= 1\n",
        "print(line_len)"
      ],
      "metadata": {
        "id": "sXmYS-khC-u_"
      },
      "execution_count": null,
      "outputs": []
    },
    {
      "cell_type": "markdown",
      "source": [
        "시간 초과가 발생. ㄷㄷ"
      ],
      "metadata": {
        "id": "Ssekhim3jDDP"
      }
    },
    {
      "cell_type": "code",
      "source": [
        "# 1874번\n",
        "# 스택 수열\n",
        "import sys\n",
        "#input = sys.stdin.readline # 제출에서만 사용\n",
        "n = int(input())\n",
        "seq = [int(input()) for _ in range(n)]\n",
        "\n",
        "start = [n-i for i in range(n)]\n",
        "stack = [0]\n",
        "answer = []\n",
        "end = []\n",
        "for seq_n in seq:\n",
        "    while stack[-1] < seq_n:\n",
        "        # push\n",
        "        if len(start) == 0:\n",
        "            break\n",
        "        stack.append(start.pop())\n",
        "        answer.append(\"+\")\n",
        "    # pop3\n",
        "    if len(stack) == 0:\n",
        "        break\n",
        "    end.append(stack.pop())\n",
        "    answer.append(\"-\")\n",
        "\n",
        "if end == seq:\n",
        "    print(*answer, sep = \"\\n\")\n",
        "else:\n",
        "    print(\"NO\")\n",
        "    "
      ],
      "metadata": {
        "id": "ZnVke9MAjG51"
      },
      "execution_count": null,
      "outputs": []
    },
    {
      "cell_type": "code",
      "source": [
        "# 1920\n",
        "# 수 찾기\n",
        "\n",
        "import sys\n",
        "#input = sys.stdin.readline # 제출에서만 사용\n",
        "n = int(input())\n",
        "N = list(map(int, input().split())).sort()\n",
        "m = int(input())\n",
        "M = list(map(int, input().split()))\n",
        "\n",
        "# 이진 탐색\n",
        "def binary_search(arr, target, start, end):\n",
        "    if start > end:\n",
        "        return 0\n",
        "    mid = (start + end)//2\n",
        "\n",
        "    if arr[mid] == target:\n",
        "        return 1\n",
        "    elif arr[mid] > target:\n",
        "        return binary_search(array, target, start, mid - 1)\n",
        "    else:\n",
        "        return binary_search(array, target, mid + 1, end)\n",
        "\n",
        "for i in M:\n",
        "    print(binary_search(N, i, 0, n-1))\n",
        "    "
      ],
      "metadata": {
        "colab": {
          "base_uri": "https://localhost:8080/",
          "height": 426
        },
        "id": "mwjJY7P5sOCl",
        "outputId": "e1924b01-be75-498d-9e41-03f2ea7755ec"
      },
      "execution_count": null,
      "outputs": [
        {
          "name": "stdout",
          "output_type": "stream",
          "text": [
            "5\n",
            "4 1 5 2 3\n",
            "5\n",
            "1 3 7 9 5\n"
          ]
        },
        {
          "output_type": "error",
          "ename": "TypeError",
          "evalue": "ignored",
          "traceback": [
            "\u001b[0;31m---------------------------------------------------------------------------\u001b[0m",
            "\u001b[0;31mTypeError\u001b[0m                                 Traceback (most recent call last)",
            "\u001b[0;32m<ipython-input-30-56775ea3f38c>\u001b[0m in \u001b[0;36m<cell line: 24>\u001b[0;34m()\u001b[0m\n\u001b[1;32m     23\u001b[0m \u001b[0;34m\u001b[0m\u001b[0m\n\u001b[1;32m     24\u001b[0m \u001b[0;32mfor\u001b[0m \u001b[0mi\u001b[0m \u001b[0;32min\u001b[0m \u001b[0mM\u001b[0m\u001b[0;34m:\u001b[0m\u001b[0;34m\u001b[0m\u001b[0;34m\u001b[0m\u001b[0m\n\u001b[0;32m---> 25\u001b[0;31m     \u001b[0mprint\u001b[0m\u001b[0;34m(\u001b[0m\u001b[0mbinary_search\u001b[0m\u001b[0;34m(\u001b[0m\u001b[0mN\u001b[0m\u001b[0;34m,\u001b[0m \u001b[0mi\u001b[0m\u001b[0;34m,\u001b[0m \u001b[0;36m0\u001b[0m\u001b[0;34m,\u001b[0m \u001b[0mn\u001b[0m\u001b[0;34m-\u001b[0m\u001b[0;36m1\u001b[0m\u001b[0;34m)\u001b[0m\u001b[0;34m)\u001b[0m\u001b[0;34m\u001b[0m\u001b[0;34m\u001b[0m\u001b[0m\n\u001b[0m\u001b[1;32m     26\u001b[0m \u001b[0;34m\u001b[0m\u001b[0m\n",
            "\u001b[0;32m<ipython-input-30-56775ea3f38c>\u001b[0m in \u001b[0;36mbinary_search\u001b[0;34m(arr, target, start, end)\u001b[0m\n\u001b[1;32m     15\u001b[0m     \u001b[0mmid\u001b[0m \u001b[0;34m=\u001b[0m \u001b[0;34m(\u001b[0m\u001b[0mstart\u001b[0m \u001b[0;34m+\u001b[0m \u001b[0mend\u001b[0m\u001b[0;34m)\u001b[0m\u001b[0;34m//\u001b[0m\u001b[0;36m2\u001b[0m\u001b[0;34m\u001b[0m\u001b[0;34m\u001b[0m\u001b[0m\n\u001b[1;32m     16\u001b[0m \u001b[0;34m\u001b[0m\u001b[0m\n\u001b[0;32m---> 17\u001b[0;31m     \u001b[0;32mif\u001b[0m \u001b[0marr\u001b[0m\u001b[0;34m[\u001b[0m\u001b[0mmid\u001b[0m\u001b[0;34m]\u001b[0m \u001b[0;34m==\u001b[0m \u001b[0mtarget\u001b[0m\u001b[0;34m:\u001b[0m\u001b[0;34m\u001b[0m\u001b[0;34m\u001b[0m\u001b[0m\n\u001b[0m\u001b[1;32m     18\u001b[0m         \u001b[0;32mreturn\u001b[0m \u001b[0;36m1\u001b[0m\u001b[0;34m\u001b[0m\u001b[0;34m\u001b[0m\u001b[0m\n\u001b[1;32m     19\u001b[0m     \u001b[0;32melif\u001b[0m \u001b[0marr\u001b[0m\u001b[0;34m[\u001b[0m\u001b[0mmid\u001b[0m\u001b[0;34m]\u001b[0m \u001b[0;34m>\u001b[0m \u001b[0mtarget\u001b[0m\u001b[0;34m:\u001b[0m\u001b[0;34m\u001b[0m\u001b[0;34m\u001b[0m\u001b[0m\n",
            "\u001b[0;31mTypeError\u001b[0m: 'NoneType' object is not subscriptable"
          ]
        }
      ]
    },
    {
      "cell_type": "code",
      "source": [
        "answer"
      ],
      "metadata": {
        "colab": {
          "base_uri": "https://localhost:8080/"
        },
        "id": "1hOUS96XziE5",
        "outputId": "2ad38b69-9043-4cae-dfde-cdac3bc1d760"
      },
      "execution_count": null,
      "outputs": [
        {
          "output_type": "execute_result",
          "data": {
            "text/plain": [
              "[1, 1, 0, 0, 1]"
            ]
          },
          "metadata": {},
          "execution_count": 10
        }
      ]
    },
    {
      "cell_type": "code",
      "source": [
        "# 2164\n",
        "# 카드2\n",
        "\n",
        "import sys\n",
        "#input = sys.stdin.readline # 제출에서만 사용\n",
        "n = int(input())\n",
        "cards = [i+2 for i in range(n-1)]\n",
        "\n",
        "while len(cards) > 1:\n",
        "    cards.append(cards[0])\n",
        "    del cards[0]\n",
        "    del cards[0]\n",
        "print(*cards)"
      ],
      "metadata": {
        "colab": {
          "base_uri": "https://localhost:8080/"
        },
        "id": "qkflWkdwzoH9",
        "outputId": "db96eaff-d99c-46fa-f67e-f8f3fe3352fb"
      },
      "execution_count": null,
      "outputs": [
        {
          "output_type": "stream",
          "name": "stdout",
          "text": [
            "50000\n",
            "34464\n"
          ]
        }
      ]
    },
    {
      "cell_type": "code",
      "source": [
        "|cards = [4,3,2,1]"
      ],
      "metadata": {
        "id": "0bs4tORY2xRm"
      },
      "execution_count": null,
      "outputs": []
    },
    {
      "cell_type": "code",
      "source": [
        "cards = [cards.pop()]+cards\n",
        "cards"
      ],
      "metadata": {
        "colab": {
          "base_uri": "https://localhost:8080/"
        },
        "id": "PUcGW6XW2yX-",
        "outputId": "7683c6af-0f1e-4211-c4e4-ac09a728510f"
      },
      "execution_count": null,
      "outputs": [
        {
          "output_type": "execute_result",
          "data": {
            "text/plain": [
              "[1, 4, 3, 2]"
            ]
          },
          "metadata": {},
          "execution_count": 23
        }
      ]
    },
    {
      "cell_type": "code",
      "source": [
        "# 1966\n",
        "# 프린터큐\n",
        "\n",
        "test_case = int(input())\n",
        "answer = []\n",
        "\n",
        "for i in range(test_case):            \n",
        "    # n : 문서의 수, m : 출력순서가 궁금한 문서의 순서\n",
        "    n, m = map(int, input().split())\n",
        "    queue = list(map(int, input().split()))\n",
        "    doc_list = [i for i in range(n)]\n",
        "    target = doc_list[m]\n",
        "    printed = ['_']\n",
        "    p_count = 0\n",
        "    while queue :\n",
        "        #print(queue, doc_list)\n",
        "        if queue[0] == max(queue):\n",
        "            printed.append(doc_list[0])\n",
        "            del queue[0]\n",
        "            del doc_list[0]\n",
        "            p_count += 1\n",
        "        else:\n",
        "            queue.append(queue[0])\n",
        "            doc_list.append(doc_list[0])\n",
        "            del queue[0]\n",
        "            del doc_list[0]\n",
        "        \n",
        "        if printed[-1] == target:\n",
        "            answer.append(p_count)\n",
        "            break\n",
        "\n",
        "print(*answer, sep =\"\\n\")        "
      ],
      "metadata": {
        "id": "y7Lj-dUC3ZVc",
        "colab": {
          "base_uri": "https://localhost:8080/"
        },
        "outputId": "d76facb5-45d0-4339-b256-7652becf847e"
      },
      "execution_count": null,
      "outputs": [
        {
          "output_type": "stream",
          "name": "stdout",
          "text": [
            "1\n",
            "6 0\n",
            "1 1 9 1 1 1\n",
            "[1, 1, 9, 1, 1, 1] [0, 1, 2, 3, 4, 5]\n",
            "[1, 9, 1, 1, 1, 1] [1, 2, 3, 4, 5, 0]\n",
            "[9, 1, 1, 1, 1, 1] [2, 3, 4, 5, 0, 1]\n",
            "[1, 1, 1, 1, 1] [3, 4, 5, 0, 1]\n",
            "[1, 1, 1, 1] [4, 5, 0, 1]\n",
            "[1, 1, 1] [5, 0, 1]\n",
            "[1, 1] [0, 1]\n",
            "[5]\n"
          ]
        }
      ]
    },
    {
      "cell_type": "code",
      "source": [
        "# 2231\n",
        "# 분해합\n",
        "\n",
        "n = int(input())\n",
        "\n",
        "check_val = 0\n",
        "generator = 0\n",
        "while check_val < n:\n",
        "    sum = check_val\n",
        "    # print(check_val)\n",
        "    for i in str(check_val):\n",
        "        # print(i)\n",
        "        sum += int(i)\n",
        "    if n == sum:\n",
        "        generator = check_val\n",
        "        break\n",
        "    else:\n",
        "        check_val += 1\n",
        "print(generator)"
      ],
      "metadata": {
        "colab": {
          "base_uri": "https://localhost:8080/"
        },
        "id": "icucy1O6B6mm",
        "outputId": "e58ded99-e7db-45c2-be7a-ba632e0a4015"
      },
      "execution_count": null,
      "outputs": [
        {
          "output_type": "stream",
          "name": "stdout",
          "text": [
            "216\n",
            "198\n"
          ]
        }
      ]
    },
    {
      "cell_type": "code",
      "source": [
        "# 4153번\n",
        "# 직각삼각형\n",
        "\n",
        "while True:\n",
        "    a, b, c = map(int,input().split())\n",
        "    if a+b+c == 0:\n",
        "        break\n",
        "    else:\n",
        "        M = max(a,b,c)\n",
        "        if M**2 == a**2 + b**2 + c**2 - M**2:\n",
        "            print(\"right\")\n",
        "        else:\n",
        "            print(\"wrong\")\n"
      ],
      "metadata": {
        "colab": {
          "base_uri": "https://localhost:8080/"
        },
        "id": "_G-dcy-Z-rNA",
        "outputId": "cb767d9d-9eca-48e7-925e-c1983b29cdcd"
      },
      "execution_count": null,
      "outputs": [
        {
          "name": "stdout",
          "output_type": "stream",
          "text": [
            "6 8 10\n",
            "right\n",
            "25 52 60\n",
            "wrong\n",
            "5 12 13\n",
            "right\n",
            "0 0 0\n"
          ]
        }
      ]
    },
    {
      "cell_type": "code",
      "source": [
        "# 2798\n",
        "# 블랙잭\n",
        "from itertools import combinations\n",
        "\n",
        "N, M = map(int,input().split())\n",
        "cards = list(map(int,input().split()))\n",
        "\n",
        "init_sum = 0\n",
        "for i in list(combinations(cards, 3)):\n",
        "    new_sum = sum(i)\n",
        "    if new_sum <= M and new_sum > init_sum:\n",
        "        init_sum = new_sum\n",
        "\n",
        "print(init_sum)"
      ],
      "metadata": {
        "colab": {
          "base_uri": "https://localhost:8080/"
        },
        "id": "fgPGDueGARVP",
        "outputId": "d9a2eb0b-fac5-4bfc-afe6-59c9d9eb7f63"
      },
      "execution_count": null,
      "outputs": [
        {
          "output_type": "stream",
          "name": "stdout",
          "text": [
            "10 500\n",
            "93 181 245 214 315 36 185 138 216 295\n",
            "497\n"
          ]
        }
      ]
    },
    {
      "cell_type": "code",
      "source": [
        "# 2609\n",
        "# 최대공약수와 최소공배수\n",
        "A, B = map(int,input().split())\n",
        "\n",
        "# A, B 이하 소수\n",
        "def prime_list(n):\n",
        "    # 에라토스테네스의 체 초기화: n개 요소에 True 설정(소수로 간주)\n",
        "    sieve = [True] * (n+1)\n",
        "\n",
        "    m = int(n ** 0.5)\n",
        "    for i in range(2, m + 1):\n",
        "        if sieve[i] == True:           # i가 소수인 경우 \n",
        "            for j in range(i+i, n, i): # i이후 i의 배수들을 False 판정\n",
        "                sieve[j] = False\n",
        "\n",
        "    # 소수 목록 산출\n",
        "    return [i for i in range(2, n+1) if sieve[i] == True]\n",
        "\n",
        "prime_nums = prime_list(max(A,B))\n",
        "G, L = 1, 1\n",
        "for i in prime_nums:\n",
        "    while A%i == 0 and B%i == 0:\n",
        "        G *= i\n",
        "        A /= i\n",
        "        B /= i\n",
        "\n",
        "L = int(G*A*B)\n",
        "print(G)\n",
        "print(L)"
      ],
      "metadata": {
        "colab": {
          "base_uri": "https://localhost:8080/"
        },
        "id": "xGMQj5s3n7Hr",
        "outputId": "dfc1b883-9495-45ed-97e1-8d440a798b55"
      },
      "execution_count": null,
      "outputs": [
        {
          "output_type": "stream",
          "name": "stdout",
          "text": [
            "2 2\n",
            "2\n",
            "2\n"
          ]
        }
      ]
    },
    {
      "cell_type": "code",
      "source": [
        "# 10814\n",
        "# 나이순 정렬\n",
        "N = int(input())\n",
        "age_names=[input().split() for _ in range(N)]\n",
        "age_names.sort(key= lambda x :int(x[0]))\n",
        "\n",
        "for age_name in age_names:\n",
        "    print(age_name[0], age_name[1]) "
      ],
      "metadata": {
        "colab": {
          "base_uri": "https://localhost:8080/"
        },
        "id": "NlXkf1_Yu3pi",
        "outputId": "d0978059-14c0-4824-c866-dea09644cb57"
      },
      "execution_count": null,
      "outputs": [
        {
          "output_type": "stream",
          "name": "stdout",
          "text": [
            "3\n",
            "21 Junkyu\n",
            "21 Dohyun\n",
            "20 Sunyoung\n",
            "20 Sunyoung\n",
            "21 Junkyu\n",
            "21 Dohyun\n"
          ]
        }
      ]
    },
    {
      "cell_type": "code",
      "source": [
        "# 11650\n",
        "# 좌표 정렬하기\n",
        "\n",
        "N = int(input())\n",
        "dot_list = [input().split() for _ in range(N)]\n",
        "dot_list.sort(key= lambda x :(int(x[0]), int(x[1])))\n",
        "\n",
        "for dot_list in dot_list:\n",
        "    print(dot_list[0], dot_list[1]) "
      ],
      "metadata": {
        "id": "iMb0vszvwmlw"
      },
      "execution_count": null,
      "outputs": []
    },
    {
      "cell_type": "code",
      "source": [
        "# 15829\n",
        "# Hashing\n",
        "\n",
        "L = int(input())\n",
        "text = input()\n",
        "hashing = 0\n",
        "for i in range(L):\n",
        "    hashing += (ord(text[i])-96) * (31**i)\n",
        "print(hashing%1234567891)"
      ],
      "metadata": {
        "colab": {
          "base_uri": "https://localhost:8080/"
        },
        "id": "ysyQmIWbAOfp",
        "outputId": "abfb314d-f296-4427-acd8-c60243e07de8"
      },
      "execution_count": null,
      "outputs": [
        {
          "output_type": "stream",
          "name": "stdout",
          "text": [
            "1\n",
            "i\n",
            "9\n"
          ]
        }
      ]
    },
    {
      "cell_type": "code",
      "source": [
        "# 18111\n",
        "# 마인크래프트\n",
        "import sys\n",
        "input = sys.stdin.readline\n",
        "\n",
        "N, M, B = map(int,input().split())\n",
        "area = N*M\n",
        "ground = []\n",
        "for i in range(N):\n",
        "    ground += (list(map(int, input().split())))\n",
        "\n",
        "total_boxes = sum(ground) + B\n",
        "max_level = total_boxes//area\n",
        "min_level = min(ground)\n",
        "\n",
        "answer = [total_boxes*2, 0]\n",
        "for level in range(min_level,max_level+1):\n",
        "    sub_ground = [i-level for i in ground]\n",
        "    time = [(i-level) *(-1) if (i-level) < 0 else (i-level)*2  for i in ground]\n",
        "    total_time = sum(time)\n",
        "    if total_time < answer[0]:\n",
        "        answer = [total_time, level]\n",
        "\n",
        "print(*answer)\n",
        "# answers.sort(key = lambda x : (x[0], x[1]))\n",
        "# print(*answers[0])"
      ],
      "metadata": {
        "id": "VhaloNq2A4Zn",
        "colab": {
          "base_uri": "https://localhost:8080/"
        },
        "outputId": "acda967b-1cf0-4704-97be-141ee27499ac"
      },
      "execution_count": null,
      "outputs": [
        {
          "output_type": "stream",
          "name": "stdout",
          "text": [
            "3 4 1\n",
            "64 64 64 64\n",
            "64 64 64 64\n",
            "64 64 64 63\n",
            "1 64\n"
          ]
        }
      ]
    },
    {
      "cell_type": "markdown",
      "source": [
        "### 시간초과 ㅠㅠ"
      ],
      "metadata": {
        "id": "2nSieghzsxR3"
      }
    },
    {
      "cell_type": "code",
      "source": [
        "# 9021\n",
        "# 괄호\n",
        "for i in range(int(input())):\n",
        "    str_PS = input()\n",
        "    answer = \"YES\"\n",
        "    c = 0\n",
        "    for s in str_PS:\n",
        "\n",
        "        if s == \"(\":\n",
        "            c += 1\n",
        "        else:\n",
        "            c -= 1\n",
        "        if c < 0 :\n",
        "            answer = \"NO\"\n",
        "\n",
        "    if c != 0:\n",
        "        answer = \"NO\" \n",
        "    print(answer)"
      ],
      "metadata": {
        "colab": {
          "base_uri": "https://localhost:8080/"
        },
        "id": "x_d21Mx8-kBy",
        "outputId": "a365f5c3-73aa-42f1-9f5f-62af8c7ba8ac"
      },
      "execution_count": null,
      "outputs": [
        {
          "output_type": "stream",
          "name": "stdout",
          "text": [
            "3\n",
            "((\n",
            "NO\n",
            "))\n",
            "NO\n",
            "())(()\n",
            "YES\n"
          ]
        }
      ]
    },
    {
      "cell_type": "code",
      "source": [
        "# 10816\n",
        "# 숫자 카드 2\n",
        "\n",
        "# N  = 10\n",
        "# cards =  [6, 3, 2, 10, 10, 10, -10, -10, 7, 3]\n",
        "# M = 8\n",
        "# nums = [10, 9, -5, 2, 3, 4, 5, -10]\n",
        "\n",
        "N = int(input())\n",
        "cards = list(map(int, input().split()))\n",
        "M = int(input())\n",
        "nums = list(map(int, input().split()))\n",
        "\n",
        "answer = {str(n) : 0 for n in nums }\n",
        "\n",
        "for c in cards:\n",
        "    try :\n",
        "        answer[str(c)] += 1\n",
        "    except:\n",
        "        pass\n",
        "answer_list = [answer[str(n)] for n in nums]\n",
        "\n",
        "print(*answer_list)"
      ],
      "metadata": {
        "id": "LVg9u2CiakD_",
        "colab": {
          "base_uri": "https://localhost:8080/"
        },
        "outputId": "442eb8e2-41ce-4112-c1a8-a13a84474a5d"
      },
      "execution_count": null,
      "outputs": [
        {
          "output_type": "stream",
          "name": "stdout",
          "text": [
            "1\n",
            "1\n",
            "2\n",
            "1 1\n",
            "[1, 1]\n"
          ]
        }
      ]
    },
    {
      "cell_type": "code",
      "source": [
        "# 11866\n",
        "# 요세푸스 문제 0\n",
        "\n",
        "# n, k = map(int, input().split())\n",
        "\n",
        "n, k = 19, 3\n",
        "\n",
        "nums = [i for i in range(0,n)]\n",
        "answer = []\n",
        "i = -1\n",
        "c = 0\n",
        "while nums:\n",
        "    i += 1\n",
        "    c += 1\n",
        "    #print(i, c)\n",
        "    i = i % len(nums) - len(nums)\n",
        "    if c % k == 0:\n",
        "        #print(i, c)\n",
        "        answer.append(nums.pop(i)+1)\n",
        "print(\"<\"+str(answer)[1:-1]+\">\")\n",
        "# a = \", \".join(map(str, answer))\n",
        "# print('<',a,'>',sep=\"\")"
      ],
      "metadata": {
        "colab": {
          "base_uri": "https://localhost:8080/"
        },
        "id": "0d92c3_Dy1k5",
        "outputId": "45493dce-eb29-4340-c825-166afd902160"
      },
      "execution_count": null,
      "outputs": [
        {
          "output_type": "stream",
          "name": "stdout",
          "text": [
            "<3, 6, 9, 12, 15, 18, 2, 7, 11, 16, 1, 8, 14, 4, 13, 5, 19, 10, 17>\n"
          ]
        }
      ]
    },
    {
      "cell_type": "code",
      "source": [
        "# 10828번\n",
        "# 스택\n",
        "import sys\n",
        "from collections import deque\n",
        "\n",
        "N = int(input())\n",
        "deq = deque()\n",
        "for _ in range(N):\n",
        "    command = sys.stdin.readline().split() ## 백준에서 입력을 sys롤 받는 것은 시간초과 이슈에 매우 효과적\n",
        "    if command[0] == \"push\":\n",
        "        deq.append(int(command[-1]))\n",
        "    elif command[0] == \"pop\":\n",
        "        if deq:\n",
        "            print(deq.pop())\n",
        "        else:\n",
        "            print(\"-1\")\n",
        "    elif command[0] == \"size\":\n",
        "        print(len(deq))\n",
        "    elif command[0] == \"empty\":\n",
        "        if deq:\n",
        "            print(\"0\")\n",
        "        else:\n",
        "            print(\"1\")\n",
        "    elif command[0] == \"top\":\n",
        "        if deq:\n",
        "            print(deq[-1])\n",
        "        else:\n",
        "            print(\"-1\")\n",
        "    else:\n",
        "        pass\n",
        "\n",
        "\n"
      ],
      "metadata": {
        "colab": {
          "base_uri": "https://localhost:8080/"
        },
        "id": "uZn7w209-KGA",
        "outputId": "8f90093a-e8db-4f65-e82e-36509ec67890"
      },
      "execution_count": null,
      "outputs": [
        {
          "output_type": "stream",
          "name": "stdout",
          "text": [
            "5\n",
            "push 22\n",
            "size\n",
            "1\n",
            "empty\n",
            "0\n",
            "top\n",
            "22\n",
            "pop\n",
            "22\n"
          ]
        }
      ]
    },
    {
      "cell_type": "code",
      "source": [
        "# 10845번\n",
        "# 큐\n",
        "import sys\n",
        "from collections import deque\n",
        "\n",
        "N = int(input())\n",
        "deq = deque()\n",
        "for _ in range(N):\n",
        "    command = sys.stdin.readline().split() ## 백준에서 입력을 sys롤 받는 것은 시간초과 이슈에 매우 효과적\n",
        "    if command[0] == \"push\":\n",
        "        deq.append(int(command[-1]))\n",
        "    elif command[0] == \"pop\":\n",
        "        if deq:\n",
        "            print(deq.popleft())\n",
        "        else:\n",
        "            print(\"-1\")\n",
        "    elif command[0] == \"size\":\n",
        "        print(len(deq))\n",
        "    elif command[0] == \"empty\":\n",
        "        if deq:\n",
        "            print(\"0\")\n",
        "        else:\n",
        "            print(\"1\")\n",
        "    elif command[0] == \"front\":\n",
        "        if deq:\n",
        "            print(deq[0])\n",
        "        else:\n",
        "            print(\"-1\")\n",
        "    elif command[0] == \"back\":\n",
        "        if deq:\n",
        "            print(deq[-1])\n",
        "        else:\n",
        "            print(\"-1\")\n",
        "    else:\n",
        "        pass\n",
        "\n",
        "\n"
      ],
      "metadata": {
        "colab": {
          "base_uri": "https://localhost:8080/",
          "height": 263
        },
        "id": "d6yhBxz0DtC8",
        "outputId": "dcb907b6-a363-4cb4-f37f-40d630357c47"
      },
      "execution_count": null,
      "outputs": [
        {
          "name": "stdout",
          "output_type": "stream",
          "text": [
            "15\n"
          ]
        },
        {
          "output_type": "error",
          "ename": "IndexError",
          "evalue": "ignored",
          "traceback": [
            "\u001b[0;31m---------------------------------------------------------------------------\u001b[0m",
            "\u001b[0;31mIndexError\u001b[0m                                Traceback (most recent call last)",
            "\u001b[0;32m<ipython-input-23-0ad8d47718be>\u001b[0m in \u001b[0;36m<cell line: 8>\u001b[0;34m()\u001b[0m\n\u001b[1;32m      8\u001b[0m \u001b[0;32mfor\u001b[0m \u001b[0m_\u001b[0m \u001b[0;32min\u001b[0m \u001b[0mrange\u001b[0m\u001b[0;34m(\u001b[0m\u001b[0mN\u001b[0m\u001b[0;34m)\u001b[0m\u001b[0;34m:\u001b[0m\u001b[0;34m\u001b[0m\u001b[0;34m\u001b[0m\u001b[0m\n\u001b[1;32m      9\u001b[0m     \u001b[0mcommand\u001b[0m \u001b[0;34m=\u001b[0m \u001b[0msys\u001b[0m\u001b[0;34m.\u001b[0m\u001b[0mstdin\u001b[0m\u001b[0;34m.\u001b[0m\u001b[0mreadline\u001b[0m\u001b[0;34m(\u001b[0m\u001b[0;34m)\u001b[0m\u001b[0;34m.\u001b[0m\u001b[0msplit\u001b[0m\u001b[0;34m(\u001b[0m\u001b[0;34m)\u001b[0m \u001b[0;31m## 백준에서 입력을 sys롤 받는 것은 시간초과 이슈에 매우 효과적\u001b[0m\u001b[0;34m\u001b[0m\u001b[0;34m\u001b[0m\u001b[0m\n\u001b[0;32m---> 10\u001b[0;31m     \u001b[0;32mif\u001b[0m \u001b[0mcommand\u001b[0m\u001b[0;34m[\u001b[0m\u001b[0;36m0\u001b[0m\u001b[0;34m]\u001b[0m \u001b[0;34m==\u001b[0m \u001b[0;34m\"push\"\u001b[0m\u001b[0;34m:\u001b[0m\u001b[0;34m\u001b[0m\u001b[0;34m\u001b[0m\u001b[0m\n\u001b[0m\u001b[1;32m     11\u001b[0m         \u001b[0mdeq\u001b[0m\u001b[0;34m.\u001b[0m\u001b[0mappend\u001b[0m\u001b[0;34m(\u001b[0m\u001b[0mint\u001b[0m\u001b[0;34m(\u001b[0m\u001b[0mcommand\u001b[0m\u001b[0;34m[\u001b[0m\u001b[0;34m-\u001b[0m\u001b[0;36m1\u001b[0m\u001b[0;34m]\u001b[0m\u001b[0;34m)\u001b[0m\u001b[0;34m)\u001b[0m\u001b[0;34m\u001b[0m\u001b[0;34m\u001b[0m\u001b[0m\n\u001b[1;32m     12\u001b[0m     \u001b[0;32melif\u001b[0m \u001b[0mcommand\u001b[0m\u001b[0;34m[\u001b[0m\u001b[0;36m0\u001b[0m\u001b[0;34m]\u001b[0m \u001b[0;34m==\u001b[0m \u001b[0;34m\"pop\"\u001b[0m\u001b[0;34m:\u001b[0m\u001b[0;34m\u001b[0m\u001b[0;34m\u001b[0m\u001b[0m\n",
            "\u001b[0;31mIndexError\u001b[0m: list index out of range"
          ]
        }
      ]
    },
    {
      "cell_type": "code",
      "source": [
        "# 10866번\n",
        "# 덱\n",
        "import sys\n",
        "from collections import deque\n",
        "\n",
        "N = int(input())\n",
        "deq = deque()\n",
        "for _ in range(N):\n",
        "    # command = sys.stdin.readline().split() ## 백준에서 입력을 sys롤 받는 것은 시간초과 이슈에 매우 효과적\n",
        "    command = input().split()\n",
        "    \n",
        "    if command[0] == \"push_front\":\n",
        "        deq.appendleft(int(command[-1]))\n",
        "    elif command[0] == \"push_back\":\n",
        "        deq.append(int(command[-1]))\n",
        "    elif command[0] == \"pop_front\":\n",
        "        if deq:\n",
        "            print(deq.popleft())\n",
        "        else:\n",
        "            print(\"-1\")\n",
        "    elif command[0] == \"pop_back\":\n",
        "        if deq:\n",
        "            print(deq.pop())\n",
        "        else:\n",
        "            print(\"-1\")\n",
        "    elif command[0] == \"size\":\n",
        "        print(len(deq))\n",
        "    elif command[0] == \"empty\":\n",
        "        if deq:\n",
        "            print(\"0\")\n",
        "        else:\n",
        "            print(\"1\")\n",
        "    elif command[0] == \"front\":\n",
        "        if deq:\n",
        "            print(deq[0])\n",
        "        else:\n",
        "            print(\"-1\")\n",
        "    elif command[0] == \"back\":\n",
        "        if deq:\n",
        "            print(deq[-1])\n",
        "        else:\n",
        "            print(\"-1\")\n",
        "    else:\n",
        "        pass"
      ],
      "metadata": {
        "id": "8rY3v2KdFwyQ"
      },
      "execution_count": null,
      "outputs": []
    },
    {
      "cell_type": "code",
      "source": [
        "# 10773\n",
        "# 제로\n",
        "from collections import deque\n",
        "\n",
        "deq = deque()\n",
        "\n",
        "k = int(input())\n",
        "\n",
        "for _ in range(k):\n",
        "    n = int(input())\n",
        "    if n :\n",
        "        deq.append(n)\n",
        "    else:\n",
        "        deq.pop()\n",
        "print(sum(deq))"
      ],
      "metadata": {
        "id": "c-ClIFsQGw6j"
      },
      "execution_count": null,
      "outputs": []
    },
    {
      "cell_type": "code",
      "source": [
        "# 4949\n",
        "# 균형잡힌 세상\n",
        "\n",
        "\n",
        "while True:\n",
        "    sentence = input()\n",
        "    a = 0\n",
        "    b = 0\n",
        "    ans = \"yes\"\n",
        "    last = [\"\"]\n",
        "    if sentence == \".\":\n",
        "        break\n",
        "    else:\n",
        "        for s in sentence:\n",
        "\n",
        "            if s == \"(\":\n",
        "                a += 1\n",
        "                last.append(\"a\")\n",
        "            elif s == \")\":\n",
        "                if last:\n",
        "                    if last[-1] == \"b\":\n",
        "                        ans = \"no\"\n",
        "                        break\n",
        "                    else:\n",
        "                        last.pop()\n",
        "                        a -= 1\n",
        "\n",
        "            elif s == \"[\":\n",
        "                b += 1\n",
        "                last.append(\"b\")\n",
        "            elif s == \"]\":\n",
        "                if last:\n",
        "                    if last[-1] == \"a\":\n",
        "                        ans = \"no\"\n",
        "                        break\n",
        "                    else:\n",
        "                        last.pop()\n",
        "                        b -= 1\n",
        "            else :\n",
        "                pass\n",
        "\n",
        "            if a < 0 or b < 0:\n",
        "                ans = \"no\"\n",
        "        if a != 0 or b != 0:\n",
        "            ans = \"no\"\n",
        "        print(ans)"
      ],
      "metadata": {
        "colab": {
          "base_uri": "https://localhost:8080/",
          "height": 432
        },
        "id": "m0OY1Lraz6AW",
        "outputId": "40cc29fc-3d99-4d8e-ff42-f379ba619629"
      },
      "execution_count": null,
      "outputs": [
        {
          "output_type": "stream",
          "name": "stdout",
          "text": [
            "(.\n",
            "no\n"
          ]
        },
        {
          "output_type": "error",
          "ename": "KeyboardInterrupt",
          "evalue": "ignored",
          "traceback": [
            "\u001b[0;31m---------------------------------------------------------------------------\u001b[0m",
            "\u001b[0;31mKeyboardInterrupt\u001b[0m                         Traceback (most recent call last)",
            "\u001b[0;32m<ipython-input-20-77f7b1b9a8b9>\u001b[0m in \u001b[0;36m<cell line: 5>\u001b[0;34m()\u001b[0m\n\u001b[1;32m      4\u001b[0m \u001b[0;34m\u001b[0m\u001b[0m\n\u001b[1;32m      5\u001b[0m \u001b[0;32mwhile\u001b[0m \u001b[0;32mTrue\u001b[0m\u001b[0;34m:\u001b[0m\u001b[0;34m\u001b[0m\u001b[0;34m\u001b[0m\u001b[0m\n\u001b[0;32m----> 6\u001b[0;31m     \u001b[0msentence\u001b[0m \u001b[0;34m=\u001b[0m \u001b[0minput\u001b[0m\u001b[0;34m(\u001b[0m\u001b[0;34m)\u001b[0m\u001b[0;34m\u001b[0m\u001b[0;34m\u001b[0m\u001b[0m\n\u001b[0m\u001b[1;32m      7\u001b[0m     \u001b[0ma\u001b[0m \u001b[0;34m=\u001b[0m \u001b[0;36m0\u001b[0m\u001b[0;34m\u001b[0m\u001b[0;34m\u001b[0m\u001b[0m\n\u001b[1;32m      8\u001b[0m     \u001b[0mb\u001b[0m \u001b[0;34m=\u001b[0m \u001b[0;36m0\u001b[0m\u001b[0;34m\u001b[0m\u001b[0;34m\u001b[0m\u001b[0m\n",
            "\u001b[0;32m/usr/local/lib/python3.10/dist-packages/ipykernel/kernelbase.py\u001b[0m in \u001b[0;36mraw_input\u001b[0;34m(self, prompt)\u001b[0m\n\u001b[1;32m    849\u001b[0m                 \u001b[0;34m\"raw_input was called, but this frontend does not support input requests.\"\u001b[0m\u001b[0;34m\u001b[0m\u001b[0;34m\u001b[0m\u001b[0m\n\u001b[1;32m    850\u001b[0m             )\n\u001b[0;32m--> 851\u001b[0;31m         return self._input_request(str(prompt),\n\u001b[0m\u001b[1;32m    852\u001b[0m             \u001b[0mself\u001b[0m\u001b[0;34m.\u001b[0m\u001b[0m_parent_ident\u001b[0m\u001b[0;34m,\u001b[0m\u001b[0;34m\u001b[0m\u001b[0;34m\u001b[0m\u001b[0m\n\u001b[1;32m    853\u001b[0m             \u001b[0mself\u001b[0m\u001b[0;34m.\u001b[0m\u001b[0m_parent_header\u001b[0m\u001b[0;34m,\u001b[0m\u001b[0;34m\u001b[0m\u001b[0;34m\u001b[0m\u001b[0m\n",
            "\u001b[0;32m/usr/local/lib/python3.10/dist-packages/ipykernel/kernelbase.py\u001b[0m in \u001b[0;36m_input_request\u001b[0;34m(self, prompt, ident, parent, password)\u001b[0m\n\u001b[1;32m    893\u001b[0m             \u001b[0;32mexcept\u001b[0m \u001b[0mKeyboardInterrupt\u001b[0m\u001b[0;34m:\u001b[0m\u001b[0;34m\u001b[0m\u001b[0;34m\u001b[0m\u001b[0m\n\u001b[1;32m    894\u001b[0m                 \u001b[0;31m# re-raise KeyboardInterrupt, to truncate traceback\u001b[0m\u001b[0;34m\u001b[0m\u001b[0;34m\u001b[0m\u001b[0m\n\u001b[0;32m--> 895\u001b[0;31m                 \u001b[0;32mraise\u001b[0m \u001b[0mKeyboardInterrupt\u001b[0m\u001b[0;34m(\u001b[0m\u001b[0;34m\"Interrupted by user\"\u001b[0m\u001b[0;34m)\u001b[0m \u001b[0;32mfrom\u001b[0m \u001b[0;32mNone\u001b[0m\u001b[0;34m\u001b[0m\u001b[0;34m\u001b[0m\u001b[0m\n\u001b[0m\u001b[1;32m    896\u001b[0m             \u001b[0;32mexcept\u001b[0m \u001b[0mException\u001b[0m \u001b[0;32mas\u001b[0m \u001b[0me\u001b[0m\u001b[0;34m:\u001b[0m\u001b[0;34m\u001b[0m\u001b[0;34m\u001b[0m\u001b[0m\n\u001b[1;32m    897\u001b[0m                 \u001b[0mself\u001b[0m\u001b[0;34m.\u001b[0m\u001b[0mlog\u001b[0m\u001b[0;34m.\u001b[0m\u001b[0mwarning\u001b[0m\u001b[0;34m(\u001b[0m\u001b[0;34m\"Invalid Message:\"\u001b[0m\u001b[0;34m,\u001b[0m \u001b[0mexc_info\u001b[0m\u001b[0;34m=\u001b[0m\u001b[0;32mTrue\u001b[0m\u001b[0;34m)\u001b[0m\u001b[0;34m\u001b[0m\u001b[0;34m\u001b[0m\u001b[0m\n",
            "\u001b[0;31mKeyboardInterrupt\u001b[0m: Interrupted by user"
          ]
        }
      ]
    },
    {
      "cell_type": "code",
      "source": [
        "# 2805\n",
        "# 나무자르기\n",
        "\n",
        "N, M = map(int, input().split())\n",
        "trees = list(map(int, input().split()))\n",
        "h = max(trees)\n",
        "\n",
        "while True:\n",
        "    cut_trees = [0 if h >= t else t-h for t in trees]\n",
        "    if sum(cut_trees) == M:\n",
        "        break\n",
        "    h -= 1\n",
        "\n",
        "print(h)\n",
        "\n",
        "### 시간 초과 발생. 질문 게시판을 보니, 이분 탐색을 적용한 듯하다. "
      ],
      "metadata": {
        "colab": {
          "base_uri": "https://localhost:8080/"
        },
        "id": "qMepOq1vHQsq",
        "outputId": "17c15b80-899d-4d10-86d5-a946d250d435"
      },
      "execution_count": null,
      "outputs": [
        {
          "output_type": "stream",
          "name": "stdout",
          "text": [
            "5 20\n",
            "4 42 40 26 46\n",
            "36\n"
          ]
        }
      ]
    },
    {
      "cell_type": "code",
      "source": [
        "N, M = map(int, input().split())\n",
        "trees = list(map(int, input().split()))\n",
        "\n",
        "bot, top = min(trees), max(trees)\n",
        "\n",
        "while bot <= top:\n",
        "    h  = (bot + top) // 2\n",
        "    cut_trees = [0 if h >= t else t-h for t in trees]\n",
        "    sum_trees = sum(cut_trees)\n",
        "    if sum_trees == M:\n",
        "        break\n",
        "    elif sum_trees < M:\n",
        "        top = h -1\n",
        "    else :\n",
        "        bot = h +1\n",
        "\n",
        "print(h)\n",
        "\n",
        "# 틀렸다고 나옴"
      ],
      "metadata": {
        "colab": {
          "base_uri": "https://localhost:8080/"
        },
        "id": "IHb9DaCSPjUV",
        "outputId": "d511573b-df92-48a6-a00f-c90fbe8b3a62"
      },
      "execution_count": null,
      "outputs": [
        {
          "output_type": "stream",
          "name": "stdout",
          "text": [
            "5 20\n",
            "4 42 40 26 46\n",
            "36\n"
          ]
        }
      ]
    },
    {
      "cell_type": "code",
      "source": [
        "# 11651\n",
        "# 좌표 정렬하기2\n",
        "\n",
        "N = int(input())\n",
        "dots = []\n",
        "for _ in range(N):\n",
        "    x, y = map(int, input().split())\n",
        "    dots.append((x,y))\n",
        "\n",
        "dots.sort(key = lambda x : (x[1], x[0]))\n",
        "\n",
        "for a, b in dots:\n",
        "    print(a, b)"
      ],
      "metadata": {
        "id": "0npDuXuwR6-M"
      },
      "execution_count": null,
      "outputs": []
    },
    {
      "cell_type": "code",
      "source": [
        "# 7568\n",
        "# 덩치\n"
      ],
      "metadata": {
        "id": "Aa8Gdx7ZT9qU"
      },
      "execution_count": null,
      "outputs": []
    },
    {
      "cell_type": "markdown",
      "source": [
        "# 배열 회전"
      ],
      "metadata": {
        "id": "hgmG8iU7K70y"
      }
    },
    {
      "cell_type": "code",
      "source": [
        "n = 6\n",
        "nums = [-4,-3,-5,1,2,6]"
      ],
      "metadata": {
        "id": "GH9B-0_LoPUT"
      },
      "execution_count": null,
      "outputs": []
    },
    {
      "cell_type": "code",
      "source": [
        "n = 6\n",
        "nums = [1,2,3,4,5,6]\n",
        "a, b = 2, 6\n",
        "nums = nums[:a-1] + [i*-1 for i in nums[a-1:b][::-1]] + nums[b:]\n",
        "nums"
      ],
      "metadata": {
        "colab": {
          "base_uri": "https://localhost:8080/"
        },
        "id": "QmTcBnp2LFOy",
        "outputId": "86576029-999e-4cf5-ea73-904679ed7887"
      },
      "execution_count": null,
      "outputs": [
        {
          "output_type": "execute_result",
          "data": {
            "text/plain": [
              "[1, -6, -5, -4, -3, -2]"
            ]
          },
          "metadata": {},
          "execution_count": 106
        }
      ]
    },
    {
      "cell_type": "markdown",
      "source": [
        "-----"
      ],
      "metadata": {
        "id": "2I0zrGtU8zuj"
      }
    },
    {
      "cell_type": "code",
      "source": [
        "def rotate_a2b(n, nums, result, rotated_nums, answer, c):\n",
        "    # rotated_nums = [[[] for __ in range(n)] for _ in range(n)]\n",
        "    c = c + 1\n",
        "    for b in range(n):\n",
        "        for a in range(b+1):\n",
        "            # print(a,b)\n",
        "            rotated_nums[a][b] = nums[:a] + [i*-1 for i in nums[a:b+1][::-1]] + nums[b+1:]\n",
        "            tmp_ans = answer[a][b] \n",
        "            answer[a][b] = tmp_ans + [a, b]\n",
        "            if rotated_nums[a][b] == result:\n",
        "                return c\n",
        "    \n",
        "    return c\n"
      ],
      "metadata": {
        "id": "LUESM4Hh7G0c"
      },
      "execution_count": null,
      "outputs": []
    },
    {
      "cell_type": "code",
      "source": [
        "# 입력\n",
        "n = 6\n",
        "nums = [i for i in range(1, n+1)]\n",
        "result = [-4,-3,-5,1,2,6]\n",
        "answer = [[[] for __ in range(n)] for _ in range(n)]\n",
        "c = 0 # 횟수 카운트\n",
        "rotated_nums = [[[] for __ in range(n)] for _ in range(n)] # 회전 값 변수\n",
        "\n",
        "c = rotate_a2b(n, nums, result, rotated_nums, answer, c)"
      ],
      "metadata": {
        "id": "N-_ETnjS6bKj"
      },
      "execution_count": null,
      "outputs": []
    },
    {
      "cell_type": "code",
      "source": [
        "c"
      ],
      "metadata": {
        "colab": {
          "base_uri": "https://localhost:8080/"
        },
        "id": "hwEFd03HAIEk",
        "outputId": "253bf3c2-0248-4868-840b-c40fa7a72b25"
      },
      "execution_count": null,
      "outputs": [
        {
          "output_type": "execute_result",
          "data": {
            "text/plain": [
              "1"
            ]
          },
          "metadata": {},
          "execution_count": 17
        }
      ]
    },
    {
      "cell_type": "code",
      "source": [
        "answer"
      ],
      "metadata": {
        "colab": {
          "base_uri": "https://localhost:8080/"
        },
        "id": "51O0taVU9s3q",
        "outputId": "5ed33d1f-68a4-45a8-db57-fb100b09dde8"
      },
      "execution_count": null,
      "outputs": [
        {
          "output_type": "execute_result",
          "data": {
            "text/plain": [
              "[[[0, 0], [0, 1], [0, 2], [0, 3], [0, 4], [0, 5]],\n",
              " [[], [1, 1], [1, 2], [1, 3], [1, 4], [1, 5]],\n",
              " [[], [], [2, 2], [2, 3], [2, 4], [2, 5]],\n",
              " [[], [], [], [3, 3], [3, 4], [3, 5]],\n",
              " [[], [], [], [], [4, 4], [4, 5]],\n",
              " [[], [], [], [], [], [5, 5]]]"
            ]
          },
          "metadata": {},
          "execution_count": 18
        }
      ]
    },
    {
      "cell_type": "code",
      "source": [
        "rotated_nums"
      ],
      "metadata": {
        "colab": {
          "base_uri": "https://localhost:8080/"
        },
        "id": "3wyjCLyjAXlU",
        "outputId": "bb1adf23-4cdb-454a-b0e0-cf1d36637cd8"
      },
      "execution_count": null,
      "outputs": [
        {
          "output_type": "execute_result",
          "data": {
            "text/plain": [
              "[[[-1, 2, 3, 4, 5, 6],\n",
              "  [-2, -1, 3, 4, 5, 6],\n",
              "  [-3, -2, -1, 4, 5, 6],\n",
              "  [-4, -3, -2, -1, 5, 6],\n",
              "  [-5, -4, -3, -2, -1, 6],\n",
              "  [-6, -5, -4, -3, -2, -1]],\n",
              " [[],\n",
              "  [1, -2, 3, 4, 5, 6],\n",
              "  [1, -3, -2, 4, 5, 6],\n",
              "  [1, -4, -3, -2, 5, 6],\n",
              "  [1, -5, -4, -3, -2, 6],\n",
              "  [1, -6, -5, -4, -3, -2]],\n",
              " [[],\n",
              "  [],\n",
              "  [1, 2, -3, 4, 5, 6],\n",
              "  [1, 2, -4, -3, 5, 6],\n",
              "  [1, 2, -5, -4, -3, 6],\n",
              "  [1, 2, -6, -5, -4, -3]],\n",
              " [[],\n",
              "  [],\n",
              "  [],\n",
              "  [1, 2, 3, -4, 5, 6],\n",
              "  [1, 2, 3, -5, -4, 6],\n",
              "  [1, 2, 3, -6, -5, -4]],\n",
              " [[], [], [], [], [1, 2, 3, 4, -5, 6], [1, 2, 3, 4, -6, -5]],\n",
              " [[], [], [], [], [], [1, 2, 3, 4, 5, -6]]]"
            ]
          },
          "metadata": {},
          "execution_count": 29
        }
      ]
    },
    {
      "cell_type": "markdown",
      "source": [],
      "metadata": {
        "id": "mcNfWH-P8MGj"
      }
    },
    {
      "cell_type": "code",
      "source": [
        "a = rotate_a2b(n, nums)"
      ],
      "metadata": {
        "id": "AaJFKKsMGQg1"
      },
      "execution_count": null,
      "outputs": []
    },
    {
      "cell_type": "code",
      "source": [
        "answer =[]\n",
        "# answe 변수에 a,b 인덱스를 누적하는방법."
      ],
      "metadata": {
        "id": "4z63b9yAOzSH"
      },
      "execution_count": null,
      "outputs": []
    },
    {
      "cell_type": "code",
      "source": [
        "a.index([-4, -3, -5, -6, -2, -1])"
      ],
      "metadata": {
        "colab": {
          "base_uri": "https://localhost:8080/",
          "height": 172
        },
        "id": "ydaCeEXCGavm",
        "outputId": "412477cc-8c54-4b06-c8cc-138ffc285f01"
      },
      "execution_count": null,
      "outputs": [
        {
          "output_type": "error",
          "ename": "ValueError",
          "evalue": "ignored",
          "traceback": [
            "\u001b[0;31m---------------------------------------------------------------------------\u001b[0m",
            "\u001b[0;31mValueError\u001b[0m                                Traceback (most recent call last)",
            "\u001b[0;32m<ipython-input-128-5916c49492dd>\u001b[0m in \u001b[0;36m<cell line: 1>\u001b[0;34m()\u001b[0m\n\u001b[0;32m----> 1\u001b[0;31m \u001b[0ma\u001b[0m\u001b[0;34m.\u001b[0m\u001b[0mindex\u001b[0m\u001b[0;34m(\u001b[0m\u001b[0;34m[\u001b[0m\u001b[0;34m-\u001b[0m\u001b[0;36m4\u001b[0m\u001b[0;34m,\u001b[0m \u001b[0;34m-\u001b[0m\u001b[0;36m3\u001b[0m\u001b[0;34m,\u001b[0m \u001b[0;34m-\u001b[0m\u001b[0;36m5\u001b[0m\u001b[0;34m,\u001b[0m \u001b[0;34m-\u001b[0m\u001b[0;36m6\u001b[0m\u001b[0;34m,\u001b[0m \u001b[0;34m-\u001b[0m\u001b[0;36m2\u001b[0m\u001b[0;34m,\u001b[0m \u001b[0;34m-\u001b[0m\u001b[0;36m1\u001b[0m\u001b[0;34m]\u001b[0m\u001b[0;34m)\u001b[0m\u001b[0;34m\u001b[0m\u001b[0;34m\u001b[0m\u001b[0m\n\u001b[0m",
            "\u001b[0;31mValueError\u001b[0m: [-4, -3, -5, -6, -2, -1] is not in list"
          ]
        }
      ]
    },
    {
      "cell_type": "code",
      "source": [],
      "metadata": {
        "id": "1gVskl3-Gcp1"
      },
      "execution_count": null,
      "outputs": []
    }
  ]
}