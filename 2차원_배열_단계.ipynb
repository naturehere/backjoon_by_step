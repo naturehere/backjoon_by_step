{
  "nbformat": 4,
  "nbformat_minor": 0,
  "metadata": {
    "colab": {
      "provenance": [],
      "authorship_tag": "ABX9TyM5M9/g75BL9/3puNT49pMr",
      "include_colab_link": true
    },
    "kernelspec": {
      "name": "python3",
      "display_name": "Python 3"
    },
    "language_info": {
      "name": "python"
    }
  },
  "cells": [
    {
      "cell_type": "markdown",
      "metadata": {
        "id": "view-in-github",
        "colab_type": "text"
      },
      "source": [
        "<a href=\"https://colab.research.google.com/github/naturehere/backjoon_by_step/blob/main/2%EC%B0%A8%EC%9B%90_%EB%B0%B0%EC%97%B4_%EB%8B%A8%EA%B3%84.ipynb\" target=\"_parent\"><img src=\"https://colab.research.google.com/assets/colab-badge.svg\" alt=\"Open In Colab\"/></a>"
      ]
    },
    {
      "cell_type": "code",
      "execution_count": null,
      "metadata": {
        "colab": {
          "base_uri": "https://localhost:8080/"
        },
        "id": "wN2mdWM9ag4G",
        "outputId": "e7f72d7c-140b-4f4e-ec3e-d738994f5473"
      },
      "outputs": [
        {
          "output_type": "stream",
          "name": "stdout",
          "text": [
            "3 3\n",
            "1 2 3\n",
            "4 5 6\n",
            "7 8 9\n",
            "1 1 1\n",
            "2 2 2\n",
            "3 3 3\n",
            "2 3 4\n",
            "6 7 8\n",
            "10 11 12\n"
          ]
        }
      ],
      "source": [
        "# 행렬 덧셈\n",
        "n, m = map(int, input().split())\n",
        "A = [list(map(int, input().split())) for _ in range(n)]\n",
        "B = [list(map(int, input().split())) for _ in range(n)]\n",
        "\n",
        "C = [[i+j for i, j in zip(a,b)] for a, b in zip(A,B) ]\n",
        "\n",
        "for c in C:\n",
        "    print(*c)"
      ]
    },
    {
      "cell_type": "code",
      "source": [
        "# 최댓값\n",
        "A = [list(map(int, input().split())) for _ in range(9)]\n",
        "flat_A = sum(A, [])\n",
        "max_A = max(flat_A)\n",
        "idx = flat_A.index(max_A)\n",
        "print(max_A)\n",
        "print(idx//9+1, idx%9+1)"
      ],
      "metadata": {
        "colab": {
          "base_uri": "https://localhost:8080/"
        },
        "id": "f-Gd2_dxbGWs",
        "outputId": "8283473a-4377-4b99-ec2d-4d4f2bd450cd"
      },
      "execution_count": null,
      "outputs": [
        {
          "output_type": "stream",
          "name": "stdout",
          "text": [
            "3 23 85 34 17 74 25 52 65\n",
            "10 7 39 42 88 52 14 72 63\n",
            "87 42 18 78 53 45 18 84 53\n",
            "34 28 64 85 12 16 75 36 55\n",
            "21 77 45 35 28 75 90 76 1\n",
            "25 87 65 15 28 11 37 28 74\n",
            "65 27 75 41 7 89 78 64 39\n",
            "47 47 70 45 23 65 3 41 44\n",
            "87 13 82 38 31 12 29 29 80\n",
            "90\n",
            "5 7\n"
          ]
        }
      ]
    },
    {
      "cell_type": "code",
      "source": [
        "# 색종이\n",
        "\n",
        "# 가로세로 100 도화지 만들기\n",
        "base = [False]*10000\n",
        "\n",
        "# 색종이 놓기 함수\n",
        "def paper(a,b, base):\n",
        "    for i in range(a, a+10):\n",
        "        for j in range(b, b+10):\n",
        "            base[i*100+j] = True\n",
        "    return base\n",
        "\n",
        "# 입력\n",
        "N = int(input())\n",
        "for _ in range(N):\n",
        "    a, b = map(int, input().split())\n",
        "    base = paper(a, b, base)\n",
        "\n",
        "print(sum(base))"
      ],
      "metadata": {
        "colab": {
          "base_uri": "https://localhost:8080/"
        },
        "id": "puDHUxX8bI5i",
        "outputId": "0b7bc28a-f9cb-4885-cab5-328b07c7c5f9"
      },
      "execution_count": null,
      "outputs": [
        {
          "output_type": "stream",
          "name": "stdout",
          "text": [
            "3\n",
            "3 7\n",
            "15 7\n",
            "5 2\n",
            "260\n"
          ]
        }
      ]
    },
    {
      "cell_type": "code",
      "source": [
        "# 세로 읽기\n",
        "\n",
        "words = []\n",
        "\n",
        "for _ in range(5):\n",
        "    words.append(input())\n",
        "\n",
        "result = \"\"\n",
        "for i in range(15):\n",
        "    for j in range(5):\n",
        "        try:\n",
        "            result += words[j][i]\n",
        "        except:\n",
        "            pass\n",
        "\n",
        "print(result)"
      ],
      "metadata": {
        "colab": {
          "base_uri": "https://localhost:8080/"
        },
        "id": "yDTpnOA4hQgF",
        "outputId": "d7fb39e9-a9f3-4667-c6cd-5fb5c90d6e3d"
      },
      "execution_count": 14,
      "outputs": [
        {
          "output_type": "stream",
          "name": "stdout",
          "text": [
            "aaa\n",
            "b\n",
            "cccc\n",
            "ddd\n",
            "ee\n",
            "abcdeacdeacdc\n"
          ]
        }
      ]
    },
    {
      "cell_type": "code",
      "source": [],
      "metadata": {
        "id": "ye-p50tNqm-C"
      },
      "execution_count": null,
      "outputs": []
    }
  ]
}