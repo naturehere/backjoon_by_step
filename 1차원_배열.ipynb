{
  "nbformat": 4,
  "nbformat_minor": 0,
  "metadata": {
    "colab": {
      "provenance": [],
      "authorship_tag": "ABX9TyM5L2eOzOhoL/1blXEBFsJe",
      "include_colab_link": true
    },
    "kernelspec": {
      "name": "python3",
      "display_name": "Python 3"
    },
    "language_info": {
      "name": "python"
    }
  },
  "cells": [
    {
      "cell_type": "markdown",
      "metadata": {
        "id": "view-in-github",
        "colab_type": "text"
      },
      "source": [
        "<a href=\"https://colab.research.google.com/github/naturehere/backjoon_by_step/blob/main/1%EC%B0%A8%EC%9B%90_%EB%B0%B0%EC%97%B4.ipynb\" target=\"_parent\"><img src=\"https://colab.research.google.com/assets/colab-badge.svg\" alt=\"Open In Colab\"/></a>"
      ]
    },
    {
      "cell_type": "code",
      "execution_count": null,
      "metadata": {
        "id": "7MSvFPE8udU4"
      },
      "outputs": [],
      "source": [
        "# 최소 최대\n",
        "import sys\n",
        "n = int(input())\n",
        "board =list(map(int, sys.stdin.readline().split()))\n",
        "print(min(board), max(board))\n",
        "\n",
        "# 최댓값\n",
        "max = 0\n",
        "for i in range(9):\n",
        "    n = int(input())\n",
        "    if n >= max :\n",
        "        idx = i\n",
        "        max = n\n",
        "\n",
        "print(max)\n",
        "print(idx+1)\n",
        "\n",
        "# 숫자의 개수\n",
        "total = 1\n",
        "for i in range(3):\n",
        "    total *= int(input())\n",
        "\n",
        "c = [0 for _ in range(10)]\n",
        "total = str(total)\n",
        "for i in total:\n",
        "    c[int(i)] += 1\n",
        "\n",
        "print(*c, sep = \"\\n\")\n",
        "\n",
        "# 나머지\n",
        "N = []\n",
        "for i in range(10):\n",
        "    N.append(int(input()))\n",
        "M = [i%42 for i in N]\n",
        "M = set(M)\n",
        "print(len(M))\n",
        "\n",
        "# 평균\n",
        "import sys\n",
        "n = int(input())\n",
        "scores =list(map(int, sys.stdin.readline().split()))\n",
        "new_scores = [i/max(scores)*100 for i in scores]\n",
        "print(sum(new_scores)/n)\n",
        "\n",
        "# OX퀴즈\n",
        "n = int(input())\n",
        "ret = []\n",
        "for _ in range(n):\n",
        "    ox = input()\n",
        "    score = 1\n",
        "    total = 0\n",
        "    for j in ox:\n",
        "        if j == \"O\":\n",
        "            total += score\n",
        "            score += 1\n",
        "        else:\n",
        "            score = 1\n",
        "    ret.append(total)\n",
        "\n",
        "print(*ret, sep = \"\\n\")\n",
        "\n",
        "# 평균은 넘겠지\n",
        "import sys\n",
        "c = int(input())\n",
        "ret = []\n",
        "for _ in range(c):\n",
        "    n, *scores = map(int, sys.stdin.readline().split())\n",
        "    # n = 3\n",
        "    # scores = [1,2,3]\n",
        "    avg = sum(scores)/n\n",
        "\n",
        "    count = 0\n",
        "    for s in scores:\n",
        "        if s > avg:\n",
        "            count += 1\n",
        "\n",
        "    ret.append((count/n)*100)\n",
        "\n",
        "for i in ret:\n",
        "    print(f\"{i :.3f}%\")"
      ]
    },
    {
      "cell_type": "code",
      "source": [
        "n, *scores = (1,2,3,4)\n",
        "[print(x) for x in numbers]"
      ],
      "metadata": {
        "id": "1IXhf1SYUirg",
        "colab": {
          "base_uri": "https://localhost:8080/",
          "height": 194
        },
        "outputId": "7929e048-4761-4ad3-f664-311bb8150751"
      },
      "execution_count": null,
      "outputs": [
        {
          "output_type": "error",
          "ename": "NameError",
          "evalue": "ignored",
          "traceback": [
            "\u001b[0;31m---------------------------------------------------------------------------\u001b[0m",
            "\u001b[0;31mNameError\u001b[0m                                 Traceback (most recent call last)",
            "\u001b[0;32m<ipython-input-2-8429dbe30fb4>\u001b[0m in \u001b[0;36m<module>\u001b[0;34m()\u001b[0m\n\u001b[1;32m      1\u001b[0m \u001b[0mn\u001b[0m\u001b[0;34m,\u001b[0m \u001b[0;34m*\u001b[0m\u001b[0mscores\u001b[0m \u001b[0;34m=\u001b[0m \u001b[0;34m(\u001b[0m\u001b[0;36m1\u001b[0m\u001b[0;34m,\u001b[0m\u001b[0;36m2\u001b[0m\u001b[0;34m,\u001b[0m\u001b[0;36m3\u001b[0m\u001b[0;34m,\u001b[0m\u001b[0;36m4\u001b[0m\u001b[0;34m)\u001b[0m\u001b[0;34m\u001b[0m\u001b[0;34m\u001b[0m\u001b[0m\n\u001b[0;32m----> 2\u001b[0;31m \u001b[0;34m[\u001b[0m\u001b[0mprint\u001b[0m\u001b[0;34m(\u001b[0m\u001b[0mx\u001b[0m\u001b[0;34m)\u001b[0m \u001b[0;32mfor\u001b[0m \u001b[0mx\u001b[0m \u001b[0;32min\u001b[0m \u001b[0mnumbers\u001b[0m\u001b[0;34m]\u001b[0m\u001b[0;34m\u001b[0m\u001b[0;34m\u001b[0m\u001b[0m\n\u001b[0m",
            "\u001b[0;31mNameError\u001b[0m: name 'numbers' is not defined"
          ]
        }
      ]
    },
    {
      "cell_type": "code",
      "source": [
        "numbers = [1,2,3]\n",
        "print(*(x for x in numbers), sep='\\n')\n",
        "print(*(f\"{i :.3f}%\" for x in numbers), sep='\\n')"
      ],
      "metadata": {
        "colab": {
          "base_uri": "https://localhost:8080/"
        },
        "id": "B06ZPFCHWpJW",
        "outputId": "7a01fd01-7f05-4693-8b2d-6028bd37b032"
      },
      "execution_count": null,
      "outputs": [
        {
          "output_type": "stream",
          "name": "stdout",
          "text": [
            "1\n",
            "2\n",
            "3\n",
            "55.556%\n",
            "55.556%\n",
            "55.556%\n"
          ]
        }
      ]
    },
    {
      "cell_type": "code",
      "source": [
        "a = [print(f'{i : 2.3f}%') for i in scores]\n",
        "\n",
        "\n",
        "[print(f'{i : .3f}%') for i in ret]"
      ],
      "metadata": {
        "colab": {
          "base_uri": "https://localhost:8080/"
        },
        "id": "AHloXpqWUkz8",
        "outputId": "01394bb6-291b-406a-ae8c-cd7005858a6a"
      },
      "execution_count": null,
      "outputs": [
        {
          "output_type": "stream",
          "name": "stdout",
          "text": [
            " 2.000%\n",
            " 3.000%\n",
            " 4.000%\n",
            " 10.000%\n",
            " 9.000%\n",
            " 7.000%\n"
          ]
        },
        {
          "output_type": "execute_result",
          "data": {
            "text/plain": [
              "[None, None, None]"
            ]
          },
          "metadata": {},
          "execution_count": 34
        }
      ]
    },
    {
      "cell_type": "code",
      "source": [
        "# 평균은 넘겠지\n",
        "import sys\n",
        "c = int(input())\n",
        "ret = []\n",
        "for _ in range(c):\n",
        "    #n, *scores = map(int, sys.stdin.readline().split())\n",
        "    n, *scores = map(int, input().split())\n",
        "    # n = 3\n",
        "    # scores = [1,2,3]\n",
        "    avg = sum(scores)/n\n",
        "\n",
        "    count = 0\n",
        "    for s in scores:\n",
        "        if s > avg:\n",
        "            count += 1\n",
        "\n",
        "    ret.append((count/n)*100)\n",
        "\n",
        "# print(*(f\"{i : .3f}%\" for i in ret), sep='\\n')\n",
        "for i in ret:\n",
        "    print(f\"{i :.3f}%\")"
      ],
      "metadata": {
        "colab": {
          "base_uri": "https://localhost:8080/"
        },
        "id": "kyOzt0EHKdUf",
        "outputId": "467d34d7-4637-4fb9-e481-c8e0f2a7d708"
      },
      "execution_count": null,
      "outputs": [
        {
          "output_type": "stream",
          "name": "stdout",
          "text": [
            "5\n",
            "5 50 50 70 80 100\n",
            "7 100 95 90 80 70 60 50\n",
            "3 70 90 80\n",
            "3 70 90 81\n",
            "9 100 99 98 97 96 95 94 93 91\n",
            " 40.000%\n",
            " 57.143%\n",
            " 33.333%\n",
            " 66.667%\n",
            " 55.556%\n"
          ]
        }
      ]
    },
    {
      "cell_type": "markdown",
      "source": [
        "### 문제 추가"
      ],
      "metadata": {
        "id": "RyeaRCfvA0vA"
      }
    },
    {
      "cell_type": "code",
      "source": [
        "# 공 넣기 (추가)\n",
        "\n",
        "# 입력 받기\n",
        "N, M = map(int,input().split())\n",
        "N, M\n",
        "\n",
        "# 바구니 초기화\n",
        "basket = [0]*N\n",
        "\n",
        "# M 횟수 만큼 i j k 입력 받아 공 교체\n",
        "for i in range(M):\n",
        "    i, j, k = map(int, input().split())\n",
        "    basket[i-1:j] = [k]*(j-i+1)\n",
        "\n",
        "print(*basket, sep = \" \")"
      ],
      "metadata": {
        "colab": {
          "base_uri": "https://localhost:8080/"
        },
        "id": "wn6ONT4z7pYx",
        "outputId": "e2d25efe-83c6-4d88-86aa-97df5da88fae"
      },
      "execution_count": 15,
      "outputs": [
        {
          "output_type": "stream",
          "name": "stdout",
          "text": [
            "5 4\n",
            "1 2 3\n",
            "3 4 4\n",
            "1 4 1\n",
            "2 2 2\n",
            "1 2 1 1 0\n"
          ]
        }
      ]
    },
    {
      "cell_type": "code",
      "source": [
        "# 개수 세기\n",
        "\n",
        "# 입력\n",
        "N = int(input())\n",
        "nums = list(map(int, input().split()))\n",
        "target = int(input())\n",
        "\n",
        "c = nums.count(target)\n",
        "\n",
        "print(c)"
      ],
      "metadata": {
        "colab": {
          "base_uri": "https://localhost:8080/"
        },
        "id": "9JkXT8_19sP8",
        "outputId": "58166937-21e2-4b28-912a-fd4953ff0d21"
      },
      "execution_count": 17,
      "outputs": [
        {
          "output_type": "stream",
          "name": "stdout",
          "text": [
            "11\n",
            "1 4 1 2 4 2 4 2 3 4 4\n",
            "5\n",
            "0\n"
          ]
        }
      ]
    },
    {
      "cell_type": "code",
      "source": [
        "# 공 바꾸기\n",
        "\n",
        "# 입력 받기\n",
        "N, M = map(int,input().split())\n",
        "N, M\n",
        "\n",
        "# 바구니 초기화\n",
        "basket = [i+1 for i in range(N)]\n",
        "\n",
        "# M 횟수 만큼 i j k 입력 받아 공 교체\n",
        "for i in range(M):\n",
        "    i, j = map(int, input().split())\n",
        "    basket[i-1], basket[j-1] = basket[j-1], basket[i-1]\n",
        "\n",
        "print(*basket, sep = \" \")\n"
      ],
      "metadata": {
        "colab": {
          "base_uri": "https://localhost:8080/"
        },
        "id": "Bsqt1Yv9BjwW",
        "outputId": "bdedf96a-6719-49fa-9d83-7c0ce9d24162"
      },
      "execution_count": 1,
      "outputs": [
        {
          "output_type": "stream",
          "name": "stdout",
          "text": [
            "5 4\n",
            "1 2\n",
            "3 4\n",
            "1 4\n",
            "2 2\n",
            "3 1 4 2 5\n"
          ]
        }
      ]
    },
    {
      "cell_type": "code",
      "source": [
        "# 과제 안내신분 ?\n",
        "# 30명중 28명만 과제 제출. 제출 안한 사람 번호를 출력하라\n",
        "\n",
        "# 출석부 초기화\n",
        "num_list = [0]*30\n",
        "\n",
        "for _ in range(28):\n",
        "    n = int(input())\n",
        "    num_list[n-1] = 1\n",
        "\n",
        "for i in range(30):\n",
        "    if num_list[i] == 0:\n",
        "        print(i+1)"
      ],
      "metadata": {
        "colab": {
          "base_uri": "https://localhost:8080/"
        },
        "id": "qyFGX1dlbUMY",
        "outputId": "a835b21d-a509-439b-8a4b-cf8b8edeeea6"
      },
      "execution_count": 3,
      "outputs": [
        {
          "output_type": "stream",
          "name": "stdout",
          "text": [
            "1\n",
            "3\n",
            "4\n",
            "4\n",
            "5\n",
            "2\n"
          ]
        }
      ]
    },
    {
      "cell_type": "code",
      "source": [
        "# 바구니 뒤집기\n",
        "\n",
        "# 입력 받기\n",
        "N, M = map(int,input().split())\n",
        "N, M\n",
        "\n",
        "# 바구니 초기화\n",
        "basket = [i+1 for i in range(N)]\n",
        "\n",
        "# M 횟수 만큼 i j 입력 받아 바구니 교체\n",
        "for i in range(M):\n",
        "    print(*basket, sep = \" \")\n",
        "    i, j = map(int, input().split())\n",
        "    basket[i-1:j] = basket[i-1:j][::-1]\n",
        "\n",
        "print(*basket, sep = \" \")"
      ],
      "metadata": {
        "colab": {
          "base_uri": "https://localhost:8080/"
        },
        "id": "3TZ0QDcZeduZ",
        "outputId": "50048b12-24b5-42d0-d13d-03a4dc1bf582"
      },
      "execution_count": 22,
      "outputs": [
        {
          "output_type": "stream",
          "name": "stdout",
          "text": [
            "5 4\n",
            "1 2 3 4 5\n",
            "1 2\n",
            "2 1 3 4 5\n",
            "3 4\n",
            "2 1 4 3 5\n",
            "1 4\n",
            "3 4 1 2 5\n",
            "2 2\n",
            "3 4 1 2 5\n"
          ]
        }
      ]
    }
  ]
}