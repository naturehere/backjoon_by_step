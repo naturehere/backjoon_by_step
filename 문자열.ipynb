{
  "nbformat": 4,
  "nbformat_minor": 0,
  "metadata": {
    "colab": {
      "provenance": [],
      "authorship_tag": "ABX9TyP0y55p7qsgsqGlAe/5myhJ",
      "include_colab_link": true
    },
    "kernelspec": {
      "name": "python3",
      "display_name": "Python 3"
    },
    "language_info": {
      "name": "python"
    }
  },
  "cells": [
    {
      "cell_type": "markdown",
      "metadata": {
        "id": "view-in-github",
        "colab_type": "text"
      },
      "source": [
        "<a href=\"https://colab.research.google.com/github/naturehere/backjoon_by_step/blob/main/%EB%AC%B8%EC%9E%90%EC%97%B4.ipynb\" target=\"_parent\"><img src=\"https://colab.research.google.com/assets/colab-badge.svg\" alt=\"Open In Colab\"/></a>"
      ]
    },
    {
      "cell_type": "code",
      "execution_count": null,
      "metadata": {
        "colab": {
          "base_uri": "https://localhost:8080/"
        },
        "id": "4SrRrLdWtdyt",
        "outputId": "e81bdfbc-9e1e-4ad3-82a0-d980778754cc"
      },
      "outputs": [
        {
          "output_type": "stream",
          "name": "stdout",
          "text": [
            "1\n",
            "49\n"
          ]
        }
      ],
      "source": [
        "# 아스키 코드\n",
        "text = input()\n",
        "print(ord(text))\n",
        "\n",
        "# 숫자의 합\n",
        "n = int(input())\n",
        "ns = input()\n",
        "total = 0\n",
        "for i in ns:\n",
        "    total += int(i)\n",
        "print(total)\n",
        "\n",
        "# 알파벳 찾기\n",
        "s = input()\n",
        "s = s[::-1]\n",
        "abc = [-1 for _ in range(26)]\n",
        "for idx, x in enumerate(s) :\n",
        "    abc[ord(x)-97] = len(s)-idx-1 \n",
        "print(*abc)\n",
        "\n",
        "# 문자열 반복\n",
        "t = int(input())\n",
        "for i in range(t):\n",
        "    r, s = input().split()\n",
        "    r = int(r)\n",
        "    ret = \"\"\n",
        "    for i in s:\n",
        "        ret += i*r\n",
        "    print(ret)\n",
        "\n",
        "# 단어 공부\n",
        "s = input().upper()\n",
        "c = [0 for _ in range(26)]\n",
        "for i in s:\n",
        "    c[ord(i)-65] += 1\n",
        "max_n = max(c)\n",
        "if c.count(max_n) == 1:\n",
        "    print(chr(c.index(max_n) + 65))\n",
        "else:\n",
        "    print(\"?\")\n",
        "\n",
        "# 단어의 개수\n",
        "text = input().split()\n",
        "print(len(text))\n",
        "\n",
        "# 상수\n",
        "a, b = input().split()\n",
        "a, b = a[::-1], b[::-1]\n",
        "print(max(int(a), int(b)))\n",
        "\n",
        "# 다이얼\n",
        "dial = [3,3,3,4,4,4,5,5,5,6,6,6,7,7,7,8,8,8,8,9,9,9,10,10,10,10]\n",
        "text = input()\n",
        "total = 0\n",
        "for s in text:\n",
        "    total += dial[ord(s)-65]\n",
        "print(total)\n",
        "\n",
        "# 크로아티아 알파벳\n",
        "check = ['c=','c-', 'dz=', 'd-', 'lj','nj','s=','z=']\n",
        "text = input()\n",
        "for c in check:\n",
        "    text = text.replace(c, \"#\")\n",
        "print(len(text))\n",
        "\n",
        "# 그룹 단어 체커\n",
        "n = int(input())\n",
        "total_c = 0\n",
        "for i in range(n):\n",
        "    word = input()\n",
        "    c = len(set(word))\n",
        "    s = word[0]\n",
        "    total = 1\n",
        "    for s_ in word[1:]:\n",
        "        if s != s_:\n",
        "            total += 1\n",
        "        s = s_\n",
        "    if total == c :\n",
        "        total_c += 1\n",
        "print(total_c)"
      ]
    },
    {
      "cell_type": "code",
      "source": [
        "# 추가 문제 20230223\n",
        "\n",
        "# 단어 길이 재기\n",
        "\n",
        "word = input()\n",
        "\n",
        "print(len(word))"
      ],
      "metadata": {
        "id": "TpeRqPFb-TFH"
      },
      "execution_count": 1,
      "outputs": []
    },
    {
      "cell_type": "code",
      "source": [
        "# 문자열\n",
        "\n",
        "T = int(input())\n",
        "words = []\n",
        "for _ in range(T):\n",
        "    words.append(input())\n",
        "\n",
        "for word in words:\n",
        "    print(word[0]+word[-1])"
      ],
      "metadata": {
        "colab": {
          "base_uri": "https://localhost:8080/"
        },
        "id": "gq9XLJXmX7Ig",
        "outputId": "6aa71b2a-4cba-41c9-e9c0-ce2fb324f5f8"
      },
      "execution_count": 2,
      "outputs": [
        {
          "output_type": "stream",
          "name": "stdout",
          "text": [
            "3\n",
            "abcd\n",
            "0\n",
            "ab\n",
            "ad\n",
            "00\n",
            "ab\n"
          ]
        }
      ]
    },
    {
      "cell_type": "code",
      "source": [
        "# 그대로 출력하기\n",
        "# 최대 100줄\n",
        "words = []\n",
        "\n",
        "for _ in range(100):\n",
        "    try:\n",
        "        words.append(input())\n",
        "    except:\n",
        "        break\n",
        "print(*words, sep = \"\\n\")"
      ],
      "metadata": {
        "colab": {
          "base_uri": "https://localhost:8080/"
        },
        "id": "JiOOkk1BZFrn",
        "outputId": "e8710629-321f-4d75-aab2-81bc1798648e"
      },
      "execution_count": 7,
      "outputs": [
        {
          "name": "stdout",
          "output_type": "stream",
          "text": [
            "88\n",
            "88\n",
            "\n"
          ]
        }
      ]
    },
    {
      "cell_type": "code",
      "source": [
        "# 풀이 : 몇줄의 입력을 받을 지 모른는 상황이나, 최대 100줄을 받는 것이 조건이다.\n",
        "# 따라서 최대 100줄의 입력을 받는 for 문에 try, except 문으로 입력 런타임 에러를 탈출할수 있도록 했더니 통과했다.\n",
        "\n",
        "# 숏코딩 참고 : 더 간단하게 open(0).read() 를 사용하는 방법도 있다.\n",
        "# https://docs.python.org/3/tutorial/inputoutput.html\n",
        "# https://docs.python.org/ko/3/library/functions.html?highlight=open#open\n",
        "print(open(0).read())"
      ],
      "metadata": {
        "id": "7GpCh94Hk3EB"
      },
      "execution_count": null,
      "outputs": []
    },
    {
      "cell_type": "code",
      "source": [
        "a = \"\"\"         ,r'\"7\n",
        "r`-_   ,'  ,/\n",
        " \\. \". L_r'\n",
        "   `~\\/\n",
        "      |\n",
        "      |\"\"\"\n",
        "print(a)"
      ],
      "metadata": {
        "colab": {
          "base_uri": "https://localhost:8080/"
        },
        "id": "485iYvhb6hTO",
        "outputId": "5d3e5631-3cfd-46a2-d086-0ce89113d75a"
      },
      "execution_count": 2,
      "outputs": [
        {
          "output_type": "stream",
          "name": "stdout",
          "text": [
            "         ,r'\"7\n",
            "r`-_   ,'  ,/\n",
            " \\. \". L_r'\n",
            "   `~\\/\n",
            "      |\n",
            "      |\n"
          ]
        }
      ]
    }
  ]
}