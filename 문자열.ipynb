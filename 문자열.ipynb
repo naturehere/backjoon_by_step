{
  "nbformat": 4,
  "nbformat_minor": 0,
  "metadata": {
    "colab": {
      "provenance": [],
      "authorship_tag": "ABX9TyPHR8qgTQtkpIK9WdVAY0+J",
      "include_colab_link": true
    },
    "kernelspec": {
      "name": "python3",
      "display_name": "Python 3"
    },
    "language_info": {
      "name": "python"
    }
  },
  "cells": [
    {
      "cell_type": "markdown",
      "metadata": {
        "id": "view-in-github",
        "colab_type": "text"
      },
      "source": [
        "<a href=\"https://colab.research.google.com/github/naturehere/backjoon_by_step/blob/main/%EB%AC%B8%EC%9E%90%EC%97%B4.ipynb\" target=\"_parent\"><img src=\"https://colab.research.google.com/assets/colab-badge.svg\" alt=\"Open In Colab\"/></a>"
      ]
    },
    {
      "cell_type": "code",
      "execution_count": null,
      "metadata": {
        "colab": {
          "base_uri": "https://localhost:8080/"
        },
        "id": "4SrRrLdWtdyt",
        "outputId": "e81bdfbc-9e1e-4ad3-82a0-d980778754cc"
      },
      "outputs": [
        {
          "output_type": "stream",
          "name": "stdout",
          "text": [
            "1\n",
            "49\n"
          ]
        }
      ],
      "source": [
        "# 아스키 코드\n",
        "text = input()\n",
        "print(ord(text))\n",
        "\n",
        "# 숫자의 합\n",
        "n = int(input())\n",
        "ns = input()\n",
        "total = 0\n",
        "for i in ns:\n",
        "    total += int(i)\n",
        "print(total)\n",
        "\n",
        "# 알파벳 찾기\n",
        "s = input()\n",
        "s = s[::-1]\n",
        "abc = [-1 for _ in range(26)]\n",
        "for idx, x in enumerate(s) :\n",
        "    abc[ord(x)-97] = len(s)-idx-1 \n",
        "print(*abc)\n",
        "\n",
        "# 문자열 반복\n",
        "t = int(input())\n",
        "for i in range(t):\n",
        "    r, s = input().split()\n",
        "    r = int(r)\n",
        "    ret = \"\"\n",
        "    for i in s:\n",
        "        ret += i*r\n",
        "    print(ret)\n",
        "\n",
        "# 단어 공부\n",
        "s = input().upper()\n",
        "c = [0 for _ in range(26)]\n",
        "for i in s:\n",
        "    c[ord(i)-65] += 1\n",
        "max_n = max(c)\n",
        "if c.count(max_n) == 1:\n",
        "    print(chr(c.index(max_n) + 65))\n",
        "else:\n",
        "    print(\"?\")\n",
        "\n",
        "# 단어의 개수\n",
        "text = input().split()\n",
        "print(len(text))\n",
        "\n",
        "# 상수\n",
        "a, b = input().split()\n",
        "a, b = a[::-1], b[::-1]\n",
        "print(max(int(a), int(b)))\n",
        "\n",
        "# 다이얼\n",
        "dial = [3,3,3,4,4,4,5,5,5,6,6,6,7,7,7,8,8,8,8,9,9,9,10,10,10,10]\n",
        "text = input()\n",
        "total = 0\n",
        "for s in text:\n",
        "    total += dial[ord(s)-65]\n",
        "print(total)\n",
        "\n",
        "# 크로아티아 알파벳\n",
        "check = ['c=','c-', 'dz=', 'd-', 'lj','nj','s=','z=']\n",
        "text = input()\n",
        "for c in check:\n",
        "    text = text.replace(c, \"#\")\n",
        "print(len(text))\n",
        "\n",
        "# 그룹 단어 체커\n",
        "n = int(input())\n",
        "total_c = 0\n",
        "for i in range(n):\n",
        "    word = input()\n",
        "    c = len(set(word))\n",
        "    s = word[0]\n",
        "    total = 1\n",
        "    for s_ in word[1:]:\n",
        "        if s != s_:\n",
        "            total += 1\n",
        "        s = s_\n",
        "    if total == c :\n",
        "        total_c += 1\n",
        "print(total_c)"
      ]
    },
    {
      "cell_type": "code",
      "source": [],
      "metadata": {
        "id": "TpeRqPFb-TFH"
      },
      "execution_count": null,
      "outputs": []
    }
  ]
}